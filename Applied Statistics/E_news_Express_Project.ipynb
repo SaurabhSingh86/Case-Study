{
  "cells": [
    {
      "cell_type": "markdown",
      "metadata": {
        "id": "4byaN07VghvB"
      },
      "source": [
        "# Problem Statement - E-news Express Project"
      ]
    },
    {
      "cell_type": "markdown",
      "metadata": {
        "id": "nC_OoxjognXy"
      },
      "source": [
        "### **Problem Statements**"
      ]
    },
    {
      "cell_type": "markdown",
      "metadata": {
        "id": "iTzA1vPDhNsl"
      },
      "source": [
        "**Context**\n",
        "\n",
        "The advent of e-news, or electronic news, portals has offered us a great opportunity to quickly get updates on the day-to-day events occurring globally. The information on these portals is retrieved electronically from online databases, processed using a variety of software, and then transmitted to the users. There are multiple advantages of transmitting news electronically, like faster access to the content and the ability to utilize different technologies such as audio, graphics, video, and other interactive elements that are either not being used or aren’t common yet in traditional newspapers.\n",
        "\n",
        "E-news Express, an online news portal, aims to expand its business by acquiring new subscribers. With every visitor to the website taking certain actions based on their interest, the company plans to analyze these actions to understand user interests and determine how to drive better engagement. The executives at E-news Express believe that there has been a decline in new monthly subscribers compared to the past year because the current webpage is not designed well enough in terms of the outline & recommended content to keep customers engaged long enough to decide to subscribe.\n",
        "\n",
        "[Companies often analyze user responses to two variants of a product to decide which of the two variants is more effective. This experimental technique, known as A/B testing, is used to determine whether a new feature attracts users based on a chosen metric.]"
      ]
    },
    {
      "cell_type": "markdown",
      "metadata": {
        "id": "UJRstF45hJmP"
      },
      "source": [
        "**Objective**\n",
        "\n",
        "The design team of the company has researched and created a new landing page that has a new outline & more relevant content compared to the old page. To test the effectiveness of the new landing page in gathering new subscribers, the Data Science team experimented by randomly selecting 100 users and dividing them equally into two groups. The existing landing page was served to the first group (control group) and the new landing page to the second group (treatment group). Data regarding the interaction of users in both groups with the two versions of the landing page was collected. Being a data scientist in E-news Express, you have been asked to explore the data and perform a statistical analysis (at a significance level of 5%) to determine the effectiveness of the new landing page in gathering new subscribers for the news portal by answering the following questions:\n",
        "\n",
        "1. Do the users spend more time on the new landing page than on the existing landing page?\n",
        "\n",
        "2. Is the conversion rate (the proportion of users who visit the landing page and get converted) for the new page greater than the conversion rate for the old page?\n",
        "\n",
        "3. Does the converted status depend on the preferred language?\n",
        "\n",
        "4. Is the time spent on the new page the same for the different language users?"
      ]
    },
    {
      "cell_type": "markdown",
      "metadata": {
        "id": "CcDpGNzRhSOS"
      },
      "source": [
        "**Data Dictionary**\n",
        "\n",
        "The data contains information regarding the interaction of users in both groups with the two versions of the landing page.\n",
        "\n",
        "* **user_id** - Unique user ID of the person visiting the website\n",
        "\n",
        "* **group** - Whether the user belongs to the first group (control) or the second group (treatment)\n",
        "\n",
        "* **landing_page** - Whether the landing page is new or old\n",
        "\n",
        "* **time_spent_on_the_page** - Time (in minutes) spent by the user on the landing page\n",
        "\n",
        "* **converted** - Whether the user gets converted to a subscriber of the news portal or not\n",
        "\n",
        "* **language_preferred** - language chosen by the user to view the landing page"
      ]
    },
    {
      "cell_type": "markdown",
      "metadata": {
        "id": "N4XGPkPCiff3"
      },
      "source": [
        "## **Importing the necessary libraries**"
      ]
    },
    {
      "cell_type": "code",
      "execution_count": 1,
      "metadata": {
        "id": "sIny-7CuigsZ"
      },
      "outputs": [],
      "source": [
        "import numpy as np\n",
        "import pandas as pd\n",
        "import matplotlib.pyplot as plt\n",
        "import seaborn as sns\n",
        "from scipy.stats import binom\n",
        "from scipy.stats import norm\n",
        "from scipy.stats import t\n",
        "import scipy.stats as stats"
      ]
    },
    {
      "cell_type": "markdown",
      "metadata": {
        "id": "dVNEXXfEnFV2"
      },
      "source": [
        "## **Loading the dataset**"
      ]
    },
    {
      "cell_type": "code",
      "execution_count": 2,
      "metadata": {
        "colab": {
          "base_uri": "https://localhost:8080/"
        },
        "id": "zMJI_ZIkfyx5",
        "outputId": "7eacea4c-91ea-454d-801a-42e76b2b499f"
      },
      "outputs": [
        {
          "name": "stdout",
          "output_type": "stream",
          "text": [
            "Mounted at /content/drive\n"
          ]
        }
      ],
      "source": [
        "from google.colab import drive\n",
        "drive.mount('/content/drive')"
      ]
    },
    {
      "cell_type": "code",
      "execution_count": 3,
      "metadata": {
        "id": "fwXo2X0ior6i"
      },
      "outputs": [],
      "source": [
        "# read the data\n",
        "file_path = r\"/content/drive/MyDrive/abtest.csv\"\n",
        "df = pd.read_csv(file_path)"
      ]
    },
    {
      "cell_type": "markdown",
      "metadata": {
        "id": "iYjIa5RvIgec"
      },
      "source": [
        "#### **Displaying the first few rows of the dataset**"
      ]
    },
    {
      "cell_type": "code",
      "execution_count": 4,
      "metadata": {
        "colab": {
          "base_uri": "https://localhost:8080/",
          "height": 206
        },
        "id": "ywwtWbjGpCqt",
        "outputId": "8c6e3961-c800-4d6b-c52c-d4ea638119de"
      },
      "outputs": [
        {
          "data": {
            "application/vnd.google.colaboratory.intrinsic+json": {
              "summary": "{\n  \"name\": \"df\",\n  \"rows\": 100,\n  \"fields\": [\n    {\n      \"column\": \"user_id\",\n      \"properties\": {\n        \"dtype\": \"number\",\n        \"std\": 52,\n        \"min\": 546443,\n        \"max\": 546592,\n        \"num_unique_values\": 100,\n        \"samples\": [\n          546580,\n          546576,\n          546568\n        ],\n        \"semantic_type\": \"\",\n        \"description\": \"\"\n      }\n    },\n    {\n      \"column\": \"group\",\n      \"properties\": {\n        \"dtype\": \"category\",\n        \"num_unique_values\": 2,\n        \"samples\": [\n          \"treatment\",\n          \"control\"\n        ],\n        \"semantic_type\": \"\",\n        \"description\": \"\"\n      }\n    },\n    {\n      \"column\": \"landing_page\",\n      \"properties\": {\n        \"dtype\": \"category\",\n        \"num_unique_values\": 2,\n        \"samples\": [\n          \"new\",\n          \"old\"\n        ],\n        \"semantic_type\": \"\",\n        \"description\": \"\"\n      }\n    },\n    {\n      \"column\": \"time_spent_on_the_page\",\n      \"properties\": {\n        \"dtype\": \"number\",\n        \"std\": 2.378166078933492,\n        \"min\": 0.19,\n        \"max\": 10.71,\n        \"num_unique_values\": 94,\n        \"samples\": [\n          8.46,\n          3.65\n        ],\n        \"semantic_type\": \"\",\n        \"description\": \"\"\n      }\n    },\n    {\n      \"column\": \"converted\",\n      \"properties\": {\n        \"dtype\": \"category\",\n        \"num_unique_values\": 2,\n        \"samples\": [\n          \"yes\",\n          \"no\"\n        ],\n        \"semantic_type\": \"\",\n        \"description\": \"\"\n      }\n    },\n    {\n      \"column\": \"language_preferred\",\n      \"properties\": {\n        \"dtype\": \"category\",\n        \"num_unique_values\": 3,\n        \"samples\": [\n          \"Spanish\",\n          \"English\"\n        ],\n        \"semantic_type\": \"\",\n        \"description\": \"\"\n      }\n    }\n  ]\n}",
              "type": "dataframe",
              "variable_name": "df"
            },
            "text/html": [
              "\n",
              "  <div id=\"df-b2afd512-31f8-45a9-97d5-28c1b5e25bc7\" class=\"colab-df-container\">\n",
              "    <div>\n",
              "<style scoped>\n",
              "    .dataframe tbody tr th:only-of-type {\n",
              "        vertical-align: middle;\n",
              "    }\n",
              "\n",
              "    .dataframe tbody tr th {\n",
              "        vertical-align: top;\n",
              "    }\n",
              "\n",
              "    .dataframe thead th {\n",
              "        text-align: right;\n",
              "    }\n",
              "</style>\n",
              "<table border=\"1\" class=\"dataframe\">\n",
              "  <thead>\n",
              "    <tr style=\"text-align: right;\">\n",
              "      <th></th>\n",
              "      <th>user_id</th>\n",
              "      <th>group</th>\n",
              "      <th>landing_page</th>\n",
              "      <th>time_spent_on_the_page</th>\n",
              "      <th>converted</th>\n",
              "      <th>language_preferred</th>\n",
              "    </tr>\n",
              "  </thead>\n",
              "  <tbody>\n",
              "    <tr>\n",
              "      <th>0</th>\n",
              "      <td>546592</td>\n",
              "      <td>control</td>\n",
              "      <td>old</td>\n",
              "      <td>3.48</td>\n",
              "      <td>no</td>\n",
              "      <td>Spanish</td>\n",
              "    </tr>\n",
              "    <tr>\n",
              "      <th>1</th>\n",
              "      <td>546468</td>\n",
              "      <td>treatment</td>\n",
              "      <td>new</td>\n",
              "      <td>7.13</td>\n",
              "      <td>yes</td>\n",
              "      <td>English</td>\n",
              "    </tr>\n",
              "    <tr>\n",
              "      <th>2</th>\n",
              "      <td>546462</td>\n",
              "      <td>treatment</td>\n",
              "      <td>new</td>\n",
              "      <td>4.40</td>\n",
              "      <td>no</td>\n",
              "      <td>Spanish</td>\n",
              "    </tr>\n",
              "    <tr>\n",
              "      <th>3</th>\n",
              "      <td>546567</td>\n",
              "      <td>control</td>\n",
              "      <td>old</td>\n",
              "      <td>3.02</td>\n",
              "      <td>no</td>\n",
              "      <td>French</td>\n",
              "    </tr>\n",
              "    <tr>\n",
              "      <th>4</th>\n",
              "      <td>546459</td>\n",
              "      <td>treatment</td>\n",
              "      <td>new</td>\n",
              "      <td>4.75</td>\n",
              "      <td>yes</td>\n",
              "      <td>Spanish</td>\n",
              "    </tr>\n",
              "  </tbody>\n",
              "</table>\n",
              "</div>\n",
              "    <div class=\"colab-df-buttons\">\n",
              "\n",
              "  <div class=\"colab-df-container\">\n",
              "    <button class=\"colab-df-convert\" onclick=\"convertToInteractive('df-b2afd512-31f8-45a9-97d5-28c1b5e25bc7')\"\n",
              "            title=\"Convert this dataframe to an interactive table.\"\n",
              "            style=\"display:none;\">\n",
              "\n",
              "  <svg xmlns=\"http://www.w3.org/2000/svg\" height=\"24px\" viewBox=\"0 -960 960 960\">\n",
              "    <path d=\"M120-120v-720h720v720H120Zm60-500h600v-160H180v160Zm220 220h160v-160H400v160Zm0 220h160v-160H400v160ZM180-400h160v-160H180v160Zm440 0h160v-160H620v160ZM180-180h160v-160H180v160Zm440 0h160v-160H620v160Z\"/>\n",
              "  </svg>\n",
              "    </button>\n",
              "\n",
              "  <style>\n",
              "    .colab-df-container {\n",
              "      display:flex;\n",
              "      gap: 12px;\n",
              "    }\n",
              "\n",
              "    .colab-df-convert {\n",
              "      background-color: #E8F0FE;\n",
              "      border: none;\n",
              "      border-radius: 50%;\n",
              "      cursor: pointer;\n",
              "      display: none;\n",
              "      fill: #1967D2;\n",
              "      height: 32px;\n",
              "      padding: 0 0 0 0;\n",
              "      width: 32px;\n",
              "    }\n",
              "\n",
              "    .colab-df-convert:hover {\n",
              "      background-color: #E2EBFA;\n",
              "      box-shadow: 0px 1px 2px rgba(60, 64, 67, 0.3), 0px 1px 3px 1px rgba(60, 64, 67, 0.15);\n",
              "      fill: #174EA6;\n",
              "    }\n",
              "\n",
              "    .colab-df-buttons div {\n",
              "      margin-bottom: 4px;\n",
              "    }\n",
              "\n",
              "    [theme=dark] .colab-df-convert {\n",
              "      background-color: #3B4455;\n",
              "      fill: #D2E3FC;\n",
              "    }\n",
              "\n",
              "    [theme=dark] .colab-df-convert:hover {\n",
              "      background-color: #434B5C;\n",
              "      box-shadow: 0px 1px 3px 1px rgba(0, 0, 0, 0.15);\n",
              "      filter: drop-shadow(0px 1px 2px rgba(0, 0, 0, 0.3));\n",
              "      fill: #FFFFFF;\n",
              "    }\n",
              "  </style>\n",
              "\n",
              "    <script>\n",
              "      const buttonEl =\n",
              "        document.querySelector('#df-b2afd512-31f8-45a9-97d5-28c1b5e25bc7 button.colab-df-convert');\n",
              "      buttonEl.style.display =\n",
              "        google.colab.kernel.accessAllowed ? 'block' : 'none';\n",
              "\n",
              "      async function convertToInteractive(key) {\n",
              "        const element = document.querySelector('#df-b2afd512-31f8-45a9-97d5-28c1b5e25bc7');\n",
              "        const dataTable =\n",
              "          await google.colab.kernel.invokeFunction('convertToInteractive',\n",
              "                                                    [key], {});\n",
              "        if (!dataTable) return;\n",
              "\n",
              "        const docLinkHtml = 'Like what you see? Visit the ' +\n",
              "          '<a target=\"_blank\" href=https://colab.research.google.com/notebooks/data_table.ipynb>data table notebook</a>'\n",
              "          + ' to learn more about interactive tables.';\n",
              "        element.innerHTML = '';\n",
              "        dataTable['output_type'] = 'display_data';\n",
              "        await google.colab.output.renderOutput(dataTable, element);\n",
              "        const docLink = document.createElement('div');\n",
              "        docLink.innerHTML = docLinkHtml;\n",
              "        element.appendChild(docLink);\n",
              "      }\n",
              "    </script>\n",
              "  </div>\n",
              "\n",
              "\n",
              "<div id=\"df-a2a17e70-f44d-4012-bdbc-d2629036de6c\">\n",
              "  <button class=\"colab-df-quickchart\" onclick=\"quickchart('df-a2a17e70-f44d-4012-bdbc-d2629036de6c')\"\n",
              "            title=\"Suggest charts\"\n",
              "            style=\"display:none;\">\n",
              "\n",
              "<svg xmlns=\"http://www.w3.org/2000/svg\" height=\"24px\"viewBox=\"0 0 24 24\"\n",
              "     width=\"24px\">\n",
              "    <g>\n",
              "        <path d=\"M19 3H5c-1.1 0-2 .9-2 2v14c0 1.1.9 2 2 2h14c1.1 0 2-.9 2-2V5c0-1.1-.9-2-2-2zM9 17H7v-7h2v7zm4 0h-2V7h2v10zm4 0h-2v-4h2v4z\"/>\n",
              "    </g>\n",
              "</svg>\n",
              "  </button>\n",
              "\n",
              "<style>\n",
              "  .colab-df-quickchart {\n",
              "      --bg-color: #E8F0FE;\n",
              "      --fill-color: #1967D2;\n",
              "      --hover-bg-color: #E2EBFA;\n",
              "      --hover-fill-color: #174EA6;\n",
              "      --disabled-fill-color: #AAA;\n",
              "      --disabled-bg-color: #DDD;\n",
              "  }\n",
              "\n",
              "  [theme=dark] .colab-df-quickchart {\n",
              "      --bg-color: #3B4455;\n",
              "      --fill-color: #D2E3FC;\n",
              "      --hover-bg-color: #434B5C;\n",
              "      --hover-fill-color: #FFFFFF;\n",
              "      --disabled-bg-color: #3B4455;\n",
              "      --disabled-fill-color: #666;\n",
              "  }\n",
              "\n",
              "  .colab-df-quickchart {\n",
              "    background-color: var(--bg-color);\n",
              "    border: none;\n",
              "    border-radius: 50%;\n",
              "    cursor: pointer;\n",
              "    display: none;\n",
              "    fill: var(--fill-color);\n",
              "    height: 32px;\n",
              "    padding: 0;\n",
              "    width: 32px;\n",
              "  }\n",
              "\n",
              "  .colab-df-quickchart:hover {\n",
              "    background-color: var(--hover-bg-color);\n",
              "    box-shadow: 0 1px 2px rgba(60, 64, 67, 0.3), 0 1px 3px 1px rgba(60, 64, 67, 0.15);\n",
              "    fill: var(--button-hover-fill-color);\n",
              "  }\n",
              "\n",
              "  .colab-df-quickchart-complete:disabled,\n",
              "  .colab-df-quickchart-complete:disabled:hover {\n",
              "    background-color: var(--disabled-bg-color);\n",
              "    fill: var(--disabled-fill-color);\n",
              "    box-shadow: none;\n",
              "  }\n",
              "\n",
              "  .colab-df-spinner {\n",
              "    border: 2px solid var(--fill-color);\n",
              "    border-color: transparent;\n",
              "    border-bottom-color: var(--fill-color);\n",
              "    animation:\n",
              "      spin 1s steps(1) infinite;\n",
              "  }\n",
              "\n",
              "  @keyframes spin {\n",
              "    0% {\n",
              "      border-color: transparent;\n",
              "      border-bottom-color: var(--fill-color);\n",
              "      border-left-color: var(--fill-color);\n",
              "    }\n",
              "    20% {\n",
              "      border-color: transparent;\n",
              "      border-left-color: var(--fill-color);\n",
              "      border-top-color: var(--fill-color);\n",
              "    }\n",
              "    30% {\n",
              "      border-color: transparent;\n",
              "      border-left-color: var(--fill-color);\n",
              "      border-top-color: var(--fill-color);\n",
              "      border-right-color: var(--fill-color);\n",
              "    }\n",
              "    40% {\n",
              "      border-color: transparent;\n",
              "      border-right-color: var(--fill-color);\n",
              "      border-top-color: var(--fill-color);\n",
              "    }\n",
              "    60% {\n",
              "      border-color: transparent;\n",
              "      border-right-color: var(--fill-color);\n",
              "    }\n",
              "    80% {\n",
              "      border-color: transparent;\n",
              "      border-right-color: var(--fill-color);\n",
              "      border-bottom-color: var(--fill-color);\n",
              "    }\n",
              "    90% {\n",
              "      border-color: transparent;\n",
              "      border-bottom-color: var(--fill-color);\n",
              "    }\n",
              "  }\n",
              "</style>\n",
              "\n",
              "  <script>\n",
              "    async function quickchart(key) {\n",
              "      const quickchartButtonEl =\n",
              "        document.querySelector('#' + key + ' button');\n",
              "      quickchartButtonEl.disabled = true;  // To prevent multiple clicks.\n",
              "      quickchartButtonEl.classList.add('colab-df-spinner');\n",
              "      try {\n",
              "        const charts = await google.colab.kernel.invokeFunction(\n",
              "            'suggestCharts', [key], {});\n",
              "      } catch (error) {\n",
              "        console.error('Error during call to suggestCharts:', error);\n",
              "      }\n",
              "      quickchartButtonEl.classList.remove('colab-df-spinner');\n",
              "      quickchartButtonEl.classList.add('colab-df-quickchart-complete');\n",
              "    }\n",
              "    (() => {\n",
              "      let quickchartButtonEl =\n",
              "        document.querySelector('#df-a2a17e70-f44d-4012-bdbc-d2629036de6c button');\n",
              "      quickchartButtonEl.style.display =\n",
              "        google.colab.kernel.accessAllowed ? 'block' : 'none';\n",
              "    })();\n",
              "  </script>\n",
              "</div>\n",
              "\n",
              "    </div>\n",
              "  </div>\n"
            ],
            "text/plain": [
              "   user_id      group landing_page  time_spent_on_the_page converted  \\\n",
              "0   546592    control          old                    3.48        no   \n",
              "1   546468  treatment          new                    7.13       yes   \n",
              "2   546462  treatment          new                    4.40        no   \n",
              "3   546567    control          old                    3.02        no   \n",
              "4   546459  treatment          new                    4.75       yes   \n",
              "\n",
              "  language_preferred  \n",
              "0            Spanish  \n",
              "1            English  \n",
              "2            Spanish  \n",
              "3             French  \n",
              "4            Spanish  "
            ]
          },
          "execution_count": 4,
          "metadata": {},
          "output_type": "execute_result"
        }
      ],
      "source": [
        "# view the first 5 rows\n",
        "df.head()"
      ]
    },
    {
      "cell_type": "markdown",
      "metadata": {
        "id": "-2RUqCpZIvsE"
      },
      "source": [
        "#### **Checking the shape of the dataset**"
      ]
    },
    {
      "cell_type": "code",
      "execution_count": 5,
      "metadata": {
        "colab": {
          "base_uri": "https://localhost:8080/"
        },
        "id": "p4k4t552pJSs",
        "outputId": "ed80c265-97fe-4aa2-8399-057a14fe1a92"
      },
      "outputs": [
        {
          "data": {
            "text/plain": [
              "(100, 6)"
            ]
          },
          "execution_count": 5,
          "metadata": {},
          "output_type": "execute_result"
        }
      ],
      "source": [
        "# Checking how many rows and columns are present in the data\n",
        "df.shape"
      ]
    },
    {
      "cell_type": "markdown",
      "metadata": {
        "id": "FqHHaLnfricj"
      },
      "source": [
        "##### Observations:\n",
        "* There are `100 rows` & `6 columns` in the abtest dataset."
      ]
    },
    {
      "cell_type": "markdown",
      "metadata": {
        "id": "kGQML0bvI7PV"
      },
      "source": [
        "#### **Checking the data types of the columns for the dataset**"
      ]
    },
    {
      "cell_type": "code",
      "execution_count": 6,
      "metadata": {
        "colab": {
          "base_uri": "https://localhost:8080/"
        },
        "id": "EKvo29wMrheq",
        "outputId": "6c1b0aa2-46c8-4881-e9fa-7ff8fe01a1b8"
      },
      "outputs": [
        {
          "name": "stdout",
          "output_type": "stream",
          "text": [
            "<class 'pandas.core.frame.DataFrame'>\n",
            "RangeIndex: 100 entries, 0 to 99\n",
            "Data columns (total 6 columns):\n",
            " #   Column                  Non-Null Count  Dtype  \n",
            "---  ------                  --------------  -----  \n",
            " 0   user_id                 100 non-null    int64  \n",
            " 1   group                   100 non-null    object \n",
            " 2   landing_page            100 non-null    object \n",
            " 3   time_spent_on_the_page  100 non-null    float64\n",
            " 4   converted               100 non-null    object \n",
            " 5   language_preferred      100 non-null    object \n",
            "dtypes: float64(1), int64(1), object(4)\n",
            "memory usage: 4.8+ KB\n"
          ]
        }
      ],
      "source": [
        "# inspecting the dataset\n",
        "df.info()"
      ]
    },
    {
      "cell_type": "markdown",
      "metadata": {
        "id": "D5F0PX7YsUtL"
      },
      "source": [
        "##### Observations:\n",
        "* The `user_id`, and `time_spent_on_the_page` columns are numeric columns while, `group`, `landing_page`, `converted` and `language_preferred`.\n",
        "\n",
        "* The `time_spent_on_the_page` columns are continous in nature.\n",
        "\n",
        "* All the columns have `100 observations`, which means none of the columns has `null values`."
      ]
    },
    {
      "cell_type": "markdown",
      "metadata": {
        "id": "QunaP2K5JkRg"
      },
      "source": [
        "#### **Statistical summary of the dataset**"
      ]
    },
    {
      "cell_type": "code",
      "execution_count": 7,
      "metadata": {
        "colab": {
          "base_uri": "https://localhost:8080/",
          "height": 300
        },
        "id": "PYnoEMS2sIU4",
        "outputId": "6aff754d-6a52-42e9-dee5-007167d625ca"
      },
      "outputs": [
        {
          "data": {
            "application/vnd.google.colaboratory.intrinsic+json": {
              "summary": "{\n  \"name\": \"df\",\n  \"rows\": 8,\n  \"fields\": [\n    {\n      \"column\": \"user_id\",\n      \"properties\": {\n        \"dtype\": \"number\",\n        \"std\": 252951.23119736966,\n        \"min\": 52.29577884350213,\n        \"max\": 546592.0,\n        \"num_unique_values\": 8,\n        \"samples\": [\n          546517.0,\n          546492.5,\n          100.0\n        ],\n        \"semantic_type\": \"\",\n        \"description\": \"\"\n      }\n    },\n    {\n      \"column\": \"time_spent_on_the_page\",\n      \"properties\": {\n        \"dtype\": \"number\",\n        \"std\": 33.733788000034416,\n        \"min\": 0.19,\n        \"max\": 100.0,\n        \"num_unique_values\": 8,\n        \"samples\": [\n          5.377800000000001,\n          5.415,\n          100.0\n        ],\n        \"semantic_type\": \"\",\n        \"description\": \"\"\n      }\n    }\n  ]\n}",
              "type": "dataframe"
            },
            "text/html": [
              "\n",
              "  <div id=\"df-9e36d570-381c-43eb-847c-98225e90b4be\" class=\"colab-df-container\">\n",
              "    <div>\n",
              "<style scoped>\n",
              "    .dataframe tbody tr th:only-of-type {\n",
              "        vertical-align: middle;\n",
              "    }\n",
              "\n",
              "    .dataframe tbody tr th {\n",
              "        vertical-align: top;\n",
              "    }\n",
              "\n",
              "    .dataframe thead th {\n",
              "        text-align: right;\n",
              "    }\n",
              "</style>\n",
              "<table border=\"1\" class=\"dataframe\">\n",
              "  <thead>\n",
              "    <tr style=\"text-align: right;\">\n",
              "      <th></th>\n",
              "      <th>user_id</th>\n",
              "      <th>time_spent_on_the_page</th>\n",
              "    </tr>\n",
              "  </thead>\n",
              "  <tbody>\n",
              "    <tr>\n",
              "      <th>count</th>\n",
              "      <td>100.000000</td>\n",
              "      <td>100.000000</td>\n",
              "    </tr>\n",
              "    <tr>\n",
              "      <th>mean</th>\n",
              "      <td>546517.000000</td>\n",
              "      <td>5.377800</td>\n",
              "    </tr>\n",
              "    <tr>\n",
              "      <th>std</th>\n",
              "      <td>52.295779</td>\n",
              "      <td>2.378166</td>\n",
              "    </tr>\n",
              "    <tr>\n",
              "      <th>min</th>\n",
              "      <td>546443.000000</td>\n",
              "      <td>0.190000</td>\n",
              "    </tr>\n",
              "    <tr>\n",
              "      <th>25%</th>\n",
              "      <td>546467.750000</td>\n",
              "      <td>3.880000</td>\n",
              "    </tr>\n",
              "    <tr>\n",
              "      <th>50%</th>\n",
              "      <td>546492.500000</td>\n",
              "      <td>5.415000</td>\n",
              "    </tr>\n",
              "    <tr>\n",
              "      <th>75%</th>\n",
              "      <td>546567.250000</td>\n",
              "      <td>7.022500</td>\n",
              "    </tr>\n",
              "    <tr>\n",
              "      <th>max</th>\n",
              "      <td>546592.000000</td>\n",
              "      <td>10.710000</td>\n",
              "    </tr>\n",
              "  </tbody>\n",
              "</table>\n",
              "</div>\n",
              "    <div class=\"colab-df-buttons\">\n",
              "\n",
              "  <div class=\"colab-df-container\">\n",
              "    <button class=\"colab-df-convert\" onclick=\"convertToInteractive('df-9e36d570-381c-43eb-847c-98225e90b4be')\"\n",
              "            title=\"Convert this dataframe to an interactive table.\"\n",
              "            style=\"display:none;\">\n",
              "\n",
              "  <svg xmlns=\"http://www.w3.org/2000/svg\" height=\"24px\" viewBox=\"0 -960 960 960\">\n",
              "    <path d=\"M120-120v-720h720v720H120Zm60-500h600v-160H180v160Zm220 220h160v-160H400v160Zm0 220h160v-160H400v160ZM180-400h160v-160H180v160Zm440 0h160v-160H620v160ZM180-180h160v-160H180v160Zm440 0h160v-160H620v160Z\"/>\n",
              "  </svg>\n",
              "    </button>\n",
              "\n",
              "  <style>\n",
              "    .colab-df-container {\n",
              "      display:flex;\n",
              "      gap: 12px;\n",
              "    }\n",
              "\n",
              "    .colab-df-convert {\n",
              "      background-color: #E8F0FE;\n",
              "      border: none;\n",
              "      border-radius: 50%;\n",
              "      cursor: pointer;\n",
              "      display: none;\n",
              "      fill: #1967D2;\n",
              "      height: 32px;\n",
              "      padding: 0 0 0 0;\n",
              "      width: 32px;\n",
              "    }\n",
              "\n",
              "    .colab-df-convert:hover {\n",
              "      background-color: #E2EBFA;\n",
              "      box-shadow: 0px 1px 2px rgba(60, 64, 67, 0.3), 0px 1px 3px 1px rgba(60, 64, 67, 0.15);\n",
              "      fill: #174EA6;\n",
              "    }\n",
              "\n",
              "    .colab-df-buttons div {\n",
              "      margin-bottom: 4px;\n",
              "    }\n",
              "\n",
              "    [theme=dark] .colab-df-convert {\n",
              "      background-color: #3B4455;\n",
              "      fill: #D2E3FC;\n",
              "    }\n",
              "\n",
              "    [theme=dark] .colab-df-convert:hover {\n",
              "      background-color: #434B5C;\n",
              "      box-shadow: 0px 1px 3px 1px rgba(0, 0, 0, 0.15);\n",
              "      filter: drop-shadow(0px 1px 2px rgba(0, 0, 0, 0.3));\n",
              "      fill: #FFFFFF;\n",
              "    }\n",
              "  </style>\n",
              "\n",
              "    <script>\n",
              "      const buttonEl =\n",
              "        document.querySelector('#df-9e36d570-381c-43eb-847c-98225e90b4be button.colab-df-convert');\n",
              "      buttonEl.style.display =\n",
              "        google.colab.kernel.accessAllowed ? 'block' : 'none';\n",
              "\n",
              "      async function convertToInteractive(key) {\n",
              "        const element = document.querySelector('#df-9e36d570-381c-43eb-847c-98225e90b4be');\n",
              "        const dataTable =\n",
              "          await google.colab.kernel.invokeFunction('convertToInteractive',\n",
              "                                                    [key], {});\n",
              "        if (!dataTable) return;\n",
              "\n",
              "        const docLinkHtml = 'Like what you see? Visit the ' +\n",
              "          '<a target=\"_blank\" href=https://colab.research.google.com/notebooks/data_table.ipynb>data table notebook</a>'\n",
              "          + ' to learn more about interactive tables.';\n",
              "        element.innerHTML = '';\n",
              "        dataTable['output_type'] = 'display_data';\n",
              "        await google.colab.output.renderOutput(dataTable, element);\n",
              "        const docLink = document.createElement('div');\n",
              "        docLink.innerHTML = docLinkHtml;\n",
              "        element.appendChild(docLink);\n",
              "      }\n",
              "    </script>\n",
              "  </div>\n",
              "\n",
              "\n",
              "<div id=\"df-45549e39-fe1e-4794-a095-aeeeb06c5636\">\n",
              "  <button class=\"colab-df-quickchart\" onclick=\"quickchart('df-45549e39-fe1e-4794-a095-aeeeb06c5636')\"\n",
              "            title=\"Suggest charts\"\n",
              "            style=\"display:none;\">\n",
              "\n",
              "<svg xmlns=\"http://www.w3.org/2000/svg\" height=\"24px\"viewBox=\"0 0 24 24\"\n",
              "     width=\"24px\">\n",
              "    <g>\n",
              "        <path d=\"M19 3H5c-1.1 0-2 .9-2 2v14c0 1.1.9 2 2 2h14c1.1 0 2-.9 2-2V5c0-1.1-.9-2-2-2zM9 17H7v-7h2v7zm4 0h-2V7h2v10zm4 0h-2v-4h2v4z\"/>\n",
              "    </g>\n",
              "</svg>\n",
              "  </button>\n",
              "\n",
              "<style>\n",
              "  .colab-df-quickchart {\n",
              "      --bg-color: #E8F0FE;\n",
              "      --fill-color: #1967D2;\n",
              "      --hover-bg-color: #E2EBFA;\n",
              "      --hover-fill-color: #174EA6;\n",
              "      --disabled-fill-color: #AAA;\n",
              "      --disabled-bg-color: #DDD;\n",
              "  }\n",
              "\n",
              "  [theme=dark] .colab-df-quickchart {\n",
              "      --bg-color: #3B4455;\n",
              "      --fill-color: #D2E3FC;\n",
              "      --hover-bg-color: #434B5C;\n",
              "      --hover-fill-color: #FFFFFF;\n",
              "      --disabled-bg-color: #3B4455;\n",
              "      --disabled-fill-color: #666;\n",
              "  }\n",
              "\n",
              "  .colab-df-quickchart {\n",
              "    background-color: var(--bg-color);\n",
              "    border: none;\n",
              "    border-radius: 50%;\n",
              "    cursor: pointer;\n",
              "    display: none;\n",
              "    fill: var(--fill-color);\n",
              "    height: 32px;\n",
              "    padding: 0;\n",
              "    width: 32px;\n",
              "  }\n",
              "\n",
              "  .colab-df-quickchart:hover {\n",
              "    background-color: var(--hover-bg-color);\n",
              "    box-shadow: 0 1px 2px rgba(60, 64, 67, 0.3), 0 1px 3px 1px rgba(60, 64, 67, 0.15);\n",
              "    fill: var(--button-hover-fill-color);\n",
              "  }\n",
              "\n",
              "  .colab-df-quickchart-complete:disabled,\n",
              "  .colab-df-quickchart-complete:disabled:hover {\n",
              "    background-color: var(--disabled-bg-color);\n",
              "    fill: var(--disabled-fill-color);\n",
              "    box-shadow: none;\n",
              "  }\n",
              "\n",
              "  .colab-df-spinner {\n",
              "    border: 2px solid var(--fill-color);\n",
              "    border-color: transparent;\n",
              "    border-bottom-color: var(--fill-color);\n",
              "    animation:\n",
              "      spin 1s steps(1) infinite;\n",
              "  }\n",
              "\n",
              "  @keyframes spin {\n",
              "    0% {\n",
              "      border-color: transparent;\n",
              "      border-bottom-color: var(--fill-color);\n",
              "      border-left-color: var(--fill-color);\n",
              "    }\n",
              "    20% {\n",
              "      border-color: transparent;\n",
              "      border-left-color: var(--fill-color);\n",
              "      border-top-color: var(--fill-color);\n",
              "    }\n",
              "    30% {\n",
              "      border-color: transparent;\n",
              "      border-left-color: var(--fill-color);\n",
              "      border-top-color: var(--fill-color);\n",
              "      border-right-color: var(--fill-color);\n",
              "    }\n",
              "    40% {\n",
              "      border-color: transparent;\n",
              "      border-right-color: var(--fill-color);\n",
              "      border-top-color: var(--fill-color);\n",
              "    }\n",
              "    60% {\n",
              "      border-color: transparent;\n",
              "      border-right-color: var(--fill-color);\n",
              "    }\n",
              "    80% {\n",
              "      border-color: transparent;\n",
              "      border-right-color: var(--fill-color);\n",
              "      border-bottom-color: var(--fill-color);\n",
              "    }\n",
              "    90% {\n",
              "      border-color: transparent;\n",
              "      border-bottom-color: var(--fill-color);\n",
              "    }\n",
              "  }\n",
              "</style>\n",
              "\n",
              "  <script>\n",
              "    async function quickchart(key) {\n",
              "      const quickchartButtonEl =\n",
              "        document.querySelector('#' + key + ' button');\n",
              "      quickchartButtonEl.disabled = true;  // To prevent multiple clicks.\n",
              "      quickchartButtonEl.classList.add('colab-df-spinner');\n",
              "      try {\n",
              "        const charts = await google.colab.kernel.invokeFunction(\n",
              "            'suggestCharts', [key], {});\n",
              "      } catch (error) {\n",
              "        console.error('Error during call to suggestCharts:', error);\n",
              "      }\n",
              "      quickchartButtonEl.classList.remove('colab-df-spinner');\n",
              "      quickchartButtonEl.classList.add('colab-df-quickchart-complete');\n",
              "    }\n",
              "    (() => {\n",
              "      let quickchartButtonEl =\n",
              "        document.querySelector('#df-45549e39-fe1e-4794-a095-aeeeb06c5636 button');\n",
              "      quickchartButtonEl.style.display =\n",
              "        google.colab.kernel.accessAllowed ? 'block' : 'none';\n",
              "    })();\n",
              "  </script>\n",
              "</div>\n",
              "\n",
              "    </div>\n",
              "  </div>\n"
            ],
            "text/plain": [
              "             user_id  time_spent_on_the_page\n",
              "count     100.000000              100.000000\n",
              "mean   546517.000000                5.377800\n",
              "std        52.295779                2.378166\n",
              "min    546443.000000                0.190000\n",
              "25%    546467.750000                3.880000\n",
              "50%    546492.500000                5.415000\n",
              "75%    546567.250000                7.022500\n",
              "max    546592.000000               10.710000"
            ]
          },
          "execution_count": 7,
          "metadata": {},
          "output_type": "execute_result"
        }
      ],
      "source": [
        "# Checking the statistical summary of the\n",
        "df.describe()"
      ]
    },
    {
      "cell_type": "markdown",
      "metadata": {
        "id": "kV9UEovZwWAv"
      },
      "source": [
        "##### Observations:\n",
        "* The **minimum**, **average**, and **maximum** `time_spent_on_the_page` are *0.19 minutes*, *5.38 minutes* and *10.71 minutes* respectively."
      ]
    },
    {
      "cell_type": "markdown",
      "metadata": {
        "id": "NgjpG7ykJxLQ"
      },
      "source": [
        "#### **Checking for null values**"
      ]
    },
    {
      "cell_type": "code",
      "execution_count": 8,
      "metadata": {
        "colab": {
          "base_uri": "https://localhost:8080/",
          "height": 272
        },
        "id": "9I6vKcoRwRvv",
        "outputId": "a52500b8-ee2d-4f69-c2b8-e767787172cc"
      },
      "outputs": [
        {
          "data": {
            "text/html": [
              "<div>\n",
              "<style scoped>\n",
              "    .dataframe tbody tr th:only-of-type {\n",
              "        vertical-align: middle;\n",
              "    }\n",
              "\n",
              "    .dataframe tbody tr th {\n",
              "        vertical-align: top;\n",
              "    }\n",
              "\n",
              "    .dataframe thead th {\n",
              "        text-align: right;\n",
              "    }\n",
              "</style>\n",
              "<table border=\"1\" class=\"dataframe\">\n",
              "  <thead>\n",
              "    <tr style=\"text-align: right;\">\n",
              "      <th></th>\n",
              "      <th>0</th>\n",
              "    </tr>\n",
              "  </thead>\n",
              "  <tbody>\n",
              "    <tr>\n",
              "      <th>user_id</th>\n",
              "      <td>0</td>\n",
              "    </tr>\n",
              "    <tr>\n",
              "      <th>group</th>\n",
              "      <td>0</td>\n",
              "    </tr>\n",
              "    <tr>\n",
              "      <th>landing_page</th>\n",
              "      <td>0</td>\n",
              "    </tr>\n",
              "    <tr>\n",
              "      <th>time_spent_on_the_page</th>\n",
              "      <td>0</td>\n",
              "    </tr>\n",
              "    <tr>\n",
              "      <th>converted</th>\n",
              "      <td>0</td>\n",
              "    </tr>\n",
              "    <tr>\n",
              "      <th>language_preferred</th>\n",
              "      <td>0</td>\n",
              "    </tr>\n",
              "  </tbody>\n",
              "</table>\n",
              "</div><br><label><b>dtype:</b> int64</label>"
            ],
            "text/plain": [
              "user_id                   0\n",
              "group                     0\n",
              "landing_page              0\n",
              "time_spent_on_the_page    0\n",
              "converted                 0\n",
              "language_preferred        0\n",
              "dtype: int64"
            ]
          },
          "execution_count": 8,
          "metadata": {},
          "output_type": "execute_result"
        }
      ],
      "source": [
        "df.isnull().sum()"
      ]
    },
    {
      "cell_type": "markdown",
      "metadata": {
        "id": "aVHg_mXlKji-"
      },
      "source": [
        "##### Observations:\n",
        "* As we can see, all the columns has `0 missing values`. It means, there are no missing values in the data."
      ]
    },
    {
      "cell_type": "markdown",
      "metadata": {
        "id": "fnTpzKZqSpfG"
      },
      "source": [
        "## **Exploratory Data Analysis (EDA)**"
      ]
    },
    {
      "cell_type": "markdown",
      "metadata": {
        "id": "RdgLlfahTBn_"
      },
      "source": [
        "### Univariate Analysis"
      ]
    },
    {
      "cell_type": "markdown",
      "metadata": {
        "id": "mJeB18-OUWdT"
      },
      "source": [
        "#### Distribution of **`time_spent_on_the_page`** *(Numerical Column)*"
      ]
    },
    {
      "cell_type": "code",
      "execution_count": 9,
      "metadata": {
        "colab": {
          "base_uri": "https://localhost:8080/",
          "height": 450
        },
        "id": "iLf_pIeRUYH5",
        "outputId": "5497dd1b-9bc0-4cd4-e3a3-f781d9b0ed31"
      },
      "outputs": [
        {
          "data": {
            "image/png": "[encoded data removed]",
            "text/plain": [
              "<Figure size 640x480 with 1 Axes>"
            ]
          },
          "metadata": {},
          "output_type": "display_data"
        }
      ],
      "source": [
        "sns.histplot(df, x='time_spent_on_the_page', kde=True);"
      ]
    },
    {
      "cell_type": "code",
      "execution_count": 10,
      "metadata": {
        "colab": {
          "base_uri": "https://localhost:8080/",
          "height": 450
        },
        "id": "TJbEjeN9V9ef",
        "outputId": "91180f71-42b2-4fba-ab53-8682f59ef17a"
      },
      "outputs": [
        {
          "data": {
            "image/png": "[encoded data removed]",
            "text/plain": [
              "<Figure size 640x480 with 1 Axes>"
            ]
          },
          "metadata": {},
          "output_type": "display_data"
        }
      ],
      "source": [
        "sns.boxplot(df, x='time_spent_on_the_page');"
      ]
    },
    {
      "cell_type": "markdown",
      "metadata": {
        "id": "XL2bq0LSUYr1"
      },
      "source": [
        "##### Observations:\n",
        "* The `time_spent_on_the_page` distribution look like evenly distribution with no outlier.\n",
        "* The median of `time_spent_on_the_page` is nearly 5 minutes."
      ]
    },
    {
      "cell_type": "markdown",
      "metadata": {
        "id": "EFE0c5heTorY"
      },
      "source": [
        "#### Distribution of **`group`** *(Categorical Column)*"
      ]
    },
    {
      "cell_type": "code",
      "execution_count": 11,
      "metadata": {
        "colab": {
          "base_uri": "https://localhost:8080/",
          "height": 449
        },
        "id": "LzyP-emOUFbY",
        "outputId": "092b11aa-e095-45f2-af4d-becd13972dbc"
      },
      "outputs": [
        {
          "data": {
            "image/png": "[encoded data removed]",
            "text/plain": [
              "<Figure size 640x480 with 1 Axes>"
            ]
          },
          "metadata": {},
          "output_type": "display_data"
        }
      ],
      "source": [
        "sns.countplot(df, x='group', hue='group');"
      ]
    },
    {
      "cell_type": "markdown",
      "metadata": {
        "id": "3YUbgf10UBGG"
      },
      "source": [
        "##### Observations:\n",
        "* The number of users are equal in both `control group` and `treatment group` in the given dataset.\n",
        "* `The existing landing page` was served to the first group (**`control group`**) and `the new landing page` to the second group (**`treatment group`**)."
      ]
    },
    {
      "cell_type": "markdown",
      "metadata": {
        "id": "CCCyfb2pURWv"
      },
      "source": [
        "#### Distribution of **`landing_page`** *(Categorical Column)*"
      ]
    },
    {
      "cell_type": "code",
      "execution_count": 12,
      "metadata": {
        "colab": {
          "base_uri": "https://localhost:8080/",
          "height": 450
        },
        "id": "LCCHYbGSTfcC",
        "outputId": "4706df01-1374-4dd9-895f-b6174c3b9531"
      },
      "outputs": [
        {
          "data": {
            "image/png": "[encoded data removed]",
            "text/plain": [
              "<Figure size 640x480 with 1 Axes>"
            ]
          },
          "metadata": {},
          "output_type": "display_data"
        }
      ],
      "source": [
        "sns.countplot(df, x='landing_page', hue='landing_page');"
      ]
    },
    {
      "cell_type": "markdown",
      "metadata": {
        "id": "8pbyKsHOUTVX"
      },
      "source": [
        "##### Observations:\n",
        "* The number of users are equal in both `old landing_page` and `new landing_page` in the given dataset.\n",
        "* Total number of users are 100 (50 belongs to old landing_page, 50 belongs to new landing_page)."
      ]
    },
    {
      "cell_type": "markdown",
      "metadata": {
        "id": "83gELmrpUZdQ"
      },
      "source": [
        "#### Distribution of **`converted`** *(Categorical Column)*"
      ]
    },
    {
      "cell_type": "code",
      "execution_count": 13,
      "metadata": {
        "colab": {
          "base_uri": "https://localhost:8080/",
          "height": 449
        },
        "id": "MW3DSD6vUZrK",
        "outputId": "51632acc-7224-481a-c877-044a9b9f21cc"
      },
      "outputs": [
        {
          "data": {
            "image/png": "[encoded data removed]",
            "text/plain": [
              "<Figure size 640x480 with 1 Axes>"
            ]
          },
          "metadata": {},
          "output_type": "display_data"
        }
      ],
      "source": [
        "sns.countplot(df, x='converted', hue='converted');"
      ]
    },
    {
      "cell_type": "code",
      "execution_count": 14,
      "metadata": {
        "colab": {
          "base_uri": "https://localhost:8080/",
          "height": 406
        },
        "id": "HWdMPK-4aVfz",
        "outputId": "7c1962f9-294a-4204-fdbe-bff56074f9bf"
      },
      "outputs": [
        {
          "data": {
            "image/png": "[encoded data removed]",
            "text/plain": [
              "<Figure size 640x480 with 1 Axes>"
            ]
          },
          "metadata": {},
          "output_type": "display_data"
        }
      ],
      "source": [
        "plt.pie(df['converted'].value_counts(), labels=['Converted', 'Not Converted'], autopct='%1.1f%%');"
      ]
    },
    {
      "cell_type": "markdown",
      "metadata": {
        "id": "RakkHYAvUZ7S"
      },
      "source": [
        "##### Observations:\n",
        "* The number of users gets `converted` to a subscriber **more than** `Not Converted` the news portal.\n",
        "* About `54%` of the users get `converted` the news portal."
      ]
    },
    {
      "cell_type": "markdown",
      "metadata": {
        "id": "bIUIinytUasA"
      },
      "source": [
        "#### Distribution of **`language_preferred`** *(Categorical Column)*"
      ]
    },
    {
      "cell_type": "code",
      "execution_count": 15,
      "metadata": {
        "colab": {
          "base_uri": "https://localhost:8080/",
          "height": 450
        },
        "id": "B7U6qclRUa8D",
        "outputId": "6086dc33-2934-49b9-92a6-12a8a15bd600"
      },
      "outputs": [
        {
          "data": {
            "image/png": "[encoded data removed]",
            "text/plain": [
              "<Figure size 640x480 with 1 Axes>"
            ]
          },
          "metadata": {},
          "output_type": "display_data"
        }
      ],
      "source": [
        "sns.countplot(df, x='language_preferred', hue='language_preferred');"
      ]
    },
    {
      "cell_type": "code",
      "execution_count": 16,
      "metadata": {
        "colab": {
          "base_uri": "https://localhost:8080/",
          "height": 406
        },
        "id": "2geSDe1COzRb",
        "outputId": "cafacd64-a26b-45c7-889e-1c616669ca48"
      },
      "outputs": [
        {
          "data": {
            "image/png": "[encoded data removed]",
            "text/plain": [
              "<Figure size 640x480 with 1 Axes>"
            ]
          },
          "metadata": {},
          "output_type": "display_data"
        }
      ],
      "source": [
        "plt.pie(df['language_preferred'].value_counts(), labels=['Spanish', 'French', 'English'], autopct='%1.1f%%');"
      ]
    },
    {
      "cell_type": "code",
      "execution_count": 17,
      "metadata": {
        "colab": {
          "base_uri": "https://localhost:8080/",
          "height": 209
        },
        "id": "2KI_KJ4YcVwk",
        "outputId": "7cea8a7f-b3d0-4f49-e956-45cf6e3ae280"
      },
      "outputs": [
        {
          "data": {
            "text/html": [
              "<div>\n",
              "<style scoped>\n",
              "    .dataframe tbody tr th:only-of-type {\n",
              "        vertical-align: middle;\n",
              "    }\n",
              "\n",
              "    .dataframe tbody tr th {\n",
              "        vertical-align: top;\n",
              "    }\n",
              "\n",
              "    .dataframe thead th {\n",
              "        text-align: right;\n",
              "    }\n",
              "</style>\n",
              "<table border=\"1\" class=\"dataframe\">\n",
              "  <thead>\n",
              "    <tr style=\"text-align: right;\">\n",
              "      <th></th>\n",
              "      <th>count</th>\n",
              "    </tr>\n",
              "    <tr>\n",
              "      <th>language_preferred</th>\n",
              "      <th></th>\n",
              "    </tr>\n",
              "  </thead>\n",
              "  <tbody>\n",
              "    <tr>\n",
              "      <th>Spanish</th>\n",
              "      <td>34</td>\n",
              "    </tr>\n",
              "    <tr>\n",
              "      <th>French</th>\n",
              "      <td>34</td>\n",
              "    </tr>\n",
              "    <tr>\n",
              "      <th>English</th>\n",
              "      <td>32</td>\n",
              "    </tr>\n",
              "  </tbody>\n",
              "</table>\n",
              "</div><br><label><b>dtype:</b> int64</label>"
            ],
            "text/plain": [
              "language_preferred\n",
              "Spanish    34\n",
              "French     34\n",
              "English    32\n",
              "Name: count, dtype: int64"
            ]
          },
          "execution_count": 17,
          "metadata": {},
          "output_type": "execute_result"
        }
      ],
      "source": [
        "df['language_preferred'].value_counts()"
      ]
    },
    {
      "cell_type": "markdown",
      "metadata": {
        "id": "pCDWlH8jUbM9"
      },
      "source": [
        "##### Observations:\n",
        "* Users prefered to view the landing page in `Spanish` and `French` followed by `English`.\n",
        "* The number of users viewing the landing page in `Spanish` and `French` is the same, with both languages having 34 users in the dataset.\n",
        "* Approximately, 34% of the users preferred `Spanish`,  34% preferred `French` and 32% preferred `English` language."
      ]
    },
    {
      "cell_type": "markdown",
      "metadata": {
        "id": "gu-6S1g0TPkB"
      },
      "source": [
        "### Bivariate analysis"
      ]
    },
    {
      "cell_type": "markdown",
      "metadata": {
        "id": "YXqm7A0Nf0qe"
      },
      "source": [
        "#### Distribution of **`group`** vs **`landing_page`** *(Categorical Column & Categorical column)*"
      ]
    },
    {
      "cell_type": "code",
      "execution_count": 18,
      "metadata": {
        "colab": {
          "base_uri": "https://localhost:8080/",
          "height": 505
        },
        "id": "QXPaA44rgXC_",
        "outputId": "3733a237-e229-4c30-8e41-4c5c6e4ea570"
      },
      "outputs": [
        {
          "data": {
            "image/png": "[encoded data removed]",
            "text/plain": [
              "<Figure size 640x480 with 1 Axes>"
            ]
          },
          "metadata": {},
          "output_type": "display_data"
        }
      ],
      "source": [
        "pd.crosstab(df['group'], df['landing_page']).plot.bar(stacked = True)\n",
        "plt.legend(loc='upper right');"
      ]
    },
    {
      "cell_type": "markdown",
      "metadata": {
        "id": "5FcrFUS2guuW"
      },
      "source": [
        "##### Observations:\n",
        "* The number of users is equal for both the `new landing page` and the `old landing page`.\n",
        "* The total number of observations are 100, with **`50`** belonging to the `old landing page` & remaining **`50`** to the `new landing page`."
      ]
    },
    {
      "cell_type": "markdown",
      "metadata": {
        "id": "AsiQSZJwf0Qk"
      },
      "source": [
        "#### Distribution of **`group`** vs **`time_spent_on_the_page`** *(Categorical column & Numerical Column)*"
      ]
    },
    {
      "cell_type": "code",
      "execution_count": 19,
      "metadata": {
        "colab": {
          "base_uri": "https://localhost:8080/",
          "height": 452
        },
        "id": "xJcm61EkgYnN",
        "outputId": "19fa7f1a-5fa9-4336-995d-509119272090"
      },
      "outputs": [
        {
          "data": {
            "image/png": "[encoded data removed]",
            "text/plain": [
              "<Figure size 640x480 with 1 Axes>"
            ]
          },
          "metadata": {},
          "output_type": "display_data"
        }
      ],
      "source": [
        "sns.barplot(df, x='group', y='time_spent_on_the_page', hue='group');"
      ]
    },
    {
      "cell_type": "code",
      "execution_count": 20,
      "metadata": {
        "colab": {
          "base_uri": "https://localhost:8080/",
          "height": 449
        },
        "id": "hWHZDiNUkfdK",
        "outputId": "b93e8843-8528-46f2-ff3c-de50e1b7ca94"
      },
      "outputs": [
        {
          "data": {
            "image/png": "[encoded data removed]",
            "text/plain": [
              "<Figure size 640x480 with 1 Axes>"
            ]
          },
          "metadata": {},
          "output_type": "display_data"
        }
      ],
      "source": [
        "sns.boxplot(data=df, x='group', y='time_spent_on_the_page', hue='group');"
      ]
    },
    {
      "cell_type": "markdown",
      "metadata": {
        "id": "Ci-1ElmTgwvg"
      },
      "source": [
        "##### Observations:\n",
        "* Users spent **more time** on  the `new landing page` compared to the `old landing page`.\n",
        "* There is a few outliers in the `new landing page`."
      ]
    },
    {
      "cell_type": "markdown",
      "metadata": {
        "id": "efMqCxwugeID"
      },
      "source": [
        "#### Distribution of **`group`** vs **`converted`** *(Categorical Column & Categorical column)*"
      ]
    },
    {
      "cell_type": "code",
      "execution_count": 21,
      "metadata": {
        "colab": {
          "base_uri": "https://localhost:8080/",
          "height": 505
        },
        "id": "NNxQZp8rgiaA",
        "outputId": "d10852c1-7a95-4909-c229-29ee5dd7c5c9"
      },
      "outputs": [
        {
          "data": {
            "image/png": "[encoded data removed]",
            "text/plain": [
              "<Figure size 640x480 with 1 Axes>"
            ]
          },
          "metadata": {},
          "output_type": "display_data"
        }
      ],
      "source": [
        "pd.crosstab(df['group'], df['converted']).plot.bar(stacked = True)\n",
        "plt.legend(loc='upper right');"
      ]
    },
    {
      "cell_type": "markdown",
      "metadata": {
        "id": "KsenIitEg2L0"
      },
      "source": [
        "##### Observations:\n",
        "* As observed, **more** users are converting on the `new landing page` compared to the `old landing page`."
      ]
    },
    {
      "cell_type": "markdown",
      "metadata": {
        "id": "_C27n2XGgjDd"
      },
      "source": [
        "#### Distribution of **`group`** vs **`language_preferred`** *(Categorical Column & Categorical column)*"
      ]
    },
    {
      "cell_type": "code",
      "execution_count": 22,
      "metadata": {
        "colab": {
          "base_uri": "https://localhost:8080/",
          "height": 505
        },
        "id": "XSxFBIwHg4vF",
        "outputId": "ea9d61bd-70e3-4a9d-9bf6-554cd69723fc"
      },
      "outputs": [
        {
          "data": {
            "image/png": "[encoded data removed]",
            "text/plain": [
              "<Figure size 640x480 with 1 Axes>"
            ]
          },
          "metadata": {},
          "output_type": "display_data"
        }
      ],
      "source": [
        "pd.crosstab(df['group'], df['language_preferred']).plot.bar(stacked = True)\n",
        "plt.legend(loc='upper right');"
      ]
    },
    {
      "cell_type": "markdown",
      "metadata": {
        "id": "jCyj68OAg5Nc"
      },
      "source": [
        "##### Observations:\n",
        "* As observed, the values are the same for both the `old landing page` & `new landing page` across all languages (Spanish, French & English)."
      ]
    },
    {
      "cell_type": "markdown",
      "metadata": {
        "id": "bPcySSMzhJ3K"
      },
      "source": [
        "#### Distribution of **`landing_page`** vs **`time_spent_on_the_page`** *(Categorical column & Numerical Column)*"
      ]
    },
    {
      "cell_type": "code",
      "execution_count": 23,
      "metadata": {
        "colab": {
          "base_uri": "https://localhost:8080/",
          "height": 452
        },
        "id": "by8_S1mmiFXy",
        "outputId": "4d10435e-91ca-46ab-c5a4-d2196a6b72f7"
      },
      "outputs": [
        {
          "data": {
            "image/png": "[encoded data removed]",
            "text/plain": [
              "<Figure size 640x480 with 1 Axes>"
            ]
          },
          "metadata": {},
          "output_type": "display_data"
        }
      ],
      "source": [
        "sns.barplot(df, x='landing_page', y='time_spent_on_the_page', hue='landing_page');"
      ]
    },
    {
      "cell_type": "code",
      "execution_count": 24,
      "metadata": {
        "colab": {
          "base_uri": "https://localhost:8080/",
          "height": 450
        },
        "id": "DoD8iv-ilYK1",
        "outputId": "dde909c2-7457-42f7-bbe5-9148f9020464"
      },
      "outputs": [
        {
          "data": {
            "image/png": "[encoded data removed]",
            "text/plain": [
              "<Figure size 640x480 with 1 Axes>"
            ]
          },
          "metadata": {},
          "output_type": "display_data"
        }
      ],
      "source": [
        "sns.boxplot(data=df, x='landing_page', y='time_spent_on_the_page', hue='landing_page');"
      ]
    },
    {
      "cell_type": "markdown",
      "metadata": {
        "id": "HW2keCYhiFyL"
      },
      "source": [
        "##### Observations:\n",
        "* Users spent more time on the `new landing page` compared to the `old landing page`."
      ]
    },
    {
      "cell_type": "markdown",
      "metadata": {
        "id": "bKLjgquwg8SS"
      },
      "source": [
        "#### Distribution of **`landing_page`** vs **`converted`** *(Categorical Column & Categorical column)*"
      ]
    },
    {
      "cell_type": "code",
      "execution_count": 25,
      "metadata": {
        "colab": {
          "base_uri": "https://localhost:8080/",
          "height": 464
        },
        "id": "O_eY7AzPiH5F",
        "outputId": "7113ca7a-7056-48f4-c445-bdf347ba9652"
      },
      "outputs": [
        {
          "data": {
            "image/png": "[encoded data removed]",
            "text/plain": [
              "<Figure size 640x480 with 1 Axes>"
            ]
          },
          "metadata": {},
          "output_type": "display_data"
        }
      ],
      "source": [
        "pd.crosstab(df['landing_page'], df['converted']).plot.bar(stacked = True)\n",
        "plt.legend(loc='upper right');"
      ]
    },
    {
      "cell_type": "markdown",
      "metadata": {
        "id": "in81CS2PiIM5"
      },
      "source": [
        "##### Observations:\n",
        "* As observed, **more** users are converting on the `new landing page` compared to the `old landing page`."
      ]
    },
    {
      "cell_type": "markdown",
      "metadata": {
        "id": "mjqbWwwAhaGT"
      },
      "source": [
        "#### Distribution of **`landing_page`** vs **`language_preferred`** *(Categorical Column & Categorical column)*"
      ]
    },
    {
      "cell_type": "code",
      "execution_count": 26,
      "metadata": {
        "colab": {
          "base_uri": "https://localhost:8080/",
          "height": 464
        },
        "id": "EAioykcIg6Fr",
        "outputId": "e8ba2d9f-cb8c-4c53-a250-331be123b6e4"
      },
      "outputs": [
        {
          "data": {
            "image/png": "[encoded data removed]",
            "text/plain": [
              "<Figure size 640x480 with 1 Axes>"
            ]
          },
          "metadata": {},
          "output_type": "display_data"
        }
      ],
      "source": [
        "pd.crosstab(df['landing_page'], df['language_preferred']).plot.bar(stacked = True)\n",
        "plt.legend(loc='upper right');"
      ]
    },
    {
      "cell_type": "markdown",
      "metadata": {
        "id": "agvxSXcZiKUv"
      },
      "source": [
        "##### Observations:\n",
        "* As observed, there is no relationship between the `landing_page` and the `language_preferred` columns."
      ]
    },
    {
      "cell_type": "markdown",
      "metadata": {
        "id": "cVo_2ZCshsit"
      },
      "source": [
        "#### Distribution of **`time_spent_on_the_page`** vs **`converted`** *( Numerical Column Categorical column)*"
      ]
    },
    {
      "cell_type": "code",
      "execution_count": 27,
      "metadata": {
        "colab": {
          "base_uri": "https://localhost:8080/",
          "height": 449
        },
        "id": "vfqpNHBdiMko",
        "outputId": "f118c5ed-93ad-4b80-834e-84716d09ced8"
      },
      "outputs": [
        {
          "data": {
            "image/png": "[encoded data removed]",
            "text/plain": [
              "<Figure size 640x480 with 1 Axes>"
            ]
          },
          "metadata": {},
          "output_type": "display_data"
        }
      ],
      "source": [
        "sns.barplot(df, x ='converted', y='time_spent_on_the_page', hue='converted');"
      ]
    },
    {
      "cell_type": "code",
      "execution_count": 28,
      "metadata": {
        "colab": {
          "base_uri": "https://localhost:8080/",
          "height": 449
        },
        "id": "UE_7x81WmIcK",
        "outputId": "2d9458bd-8df4-42b9-9e9a-5599237c91b5"
      },
      "outputs": [
        {
          "data": {
            "image/png": "[encoded data removed]",
            "text/plain": [
              "<Figure size 640x480 with 1 Axes>"
            ]
          },
          "metadata": {},
          "output_type": "display_data"
        }
      ],
      "source": [
        "sns.boxplot(data=df, x='converted', y='time_spent_on_the_page', hue='converted');"
      ]
    },
    {
      "cell_type": "markdown",
      "metadata": {
        "id": "tjtWi7cWiM5K"
      },
      "source": [
        "##### Observations:\n",
        "* As observed, users spent more time on the `new landing page` and **converted at a higher rate** compared to the `old landing page`."
      ]
    },
    {
      "cell_type": "markdown",
      "metadata": {
        "id": "W_-UF6T6h2GN"
      },
      "source": [
        "#### Distribution of **`time_spent_on_the_page`** vs **`language_preferred`** *( Numerical Column Categorical column)*"
      ]
    },
    {
      "cell_type": "code",
      "execution_count": 29,
      "metadata": {
        "colab": {
          "base_uri": "https://localhost:8080/",
          "height": 450
        },
        "id": "qP8ldyEbiOwa",
        "outputId": "94743f24-6b9c-4105-f629-ffa88ad0d912"
      },
      "outputs": [
        {
          "data": {
            "image/png": "[encoded data removed]",
            "text/plain": [
              "<Figure size 640x480 with 1 Axes>"
            ]
          },
          "metadata": {},
          "output_type": "display_data"
        }
      ],
      "source": [
        "sns.barplot(df, x ='language_preferred', y='time_spent_on_the_page', hue='language_preferred');"
      ]
    },
    {
      "cell_type": "code",
      "execution_count": 30,
      "metadata": {
        "colab": {
          "base_uri": "https://localhost:8080/",
          "height": 450
        },
        "id": "VnAFDPUamQK9",
        "outputId": "2bab6958-d9ce-49ef-eb53-07df6a260eba"
      },
      "outputs": [
        {
          "data": {
            "image/png": "[encoded data removed]",
            "text/plain": [
              "<Figure size 640x480 with 1 Axes>"
            ]
          },
          "metadata": {},
          "output_type": "display_data"
        }
      ],
      "source": [
        "sns.boxplot(data=df, x='language_preferred', y='time_spent_on_the_page', hue='language_preferred');"
      ]
    },
    {
      "cell_type": "markdown",
      "metadata": {
        "id": "MQKwRsfbiPC7"
      },
      "source": [
        "##### Observations:\n",
        "* The medians are nearly identical across all the languages."
      ]
    },
    {
      "cell_type": "markdown",
      "metadata": {
        "id": "1jV4Ks5yhh1d"
      },
      "source": [
        "#### Distribution of **`converted`** vs **`language_preferred`** *(Categorical Column & Categorical column)*"
      ]
    },
    {
      "cell_type": "code",
      "execution_count": 31,
      "metadata": {
        "colab": {
          "base_uri": "https://localhost:8080/",
          "height": 459
        },
        "id": "8BHDo5AciQ68",
        "outputId": "dd62cffd-896e-4ad9-b2ed-5c77d8f9de5f"
      },
      "outputs": [
        {
          "data": {
            "image/png": "[encoded data removed]",
            "text/plain": [
              "<Figure size 640x480 with 1 Axes>"
            ]
          },
          "metadata": {},
          "output_type": "display_data"
        }
      ],
      "source": [
        "pd.crosstab(df['converted'], df['language_preferred']).plot.bar(stacked = True)\n",
        "plt.legend(loc='upper right');"
      ]
    },
    {
      "cell_type": "markdown",
      "metadata": {
        "id": "BYp_0VzhiROq"
      },
      "source": [
        "##### Observations:\n",
        "* It appears that there `may be` `no relationship` between the `converted` and `language_preferred` columns."
      ]
    },
    {
      "cell_type": "markdown",
      "metadata": {
        "id": "IXBA4Px0nSM_"
      },
      "source": [
        "## **Questions**"
      ]
    },
    {
      "cell_type": "code",
      "execution_count": 32,
      "metadata": {
        "id": "GJhY571A27Yf"
      },
      "outputs": [],
      "source": [
        "# level of significance = 5%  given for the statistical analysis\n",
        "alpha = 0.05"
      ]
    },
    {
      "cell_type": "markdown",
      "metadata": {
        "id": "S45pDxGLekjr"
      },
      "source": [
        "#### **Q1 Do the users spend more time on the new landing page than on the existing landing page?**"
      ]
    },
    {
      "cell_type": "markdown",
      "metadata": {
        "id": "5-M0cpNWbFY8"
      },
      "source": [
        "##### Visual Analysis"
      ]
    },
    {
      "cell_type": "code",
      "execution_count": 33,
      "metadata": {
        "colab": {
          "base_uri": "https://localhost:8080/",
          "height": 455
        },
        "id": "0iz-dEoiSvQJ",
        "outputId": "e5f9b6c3-123e-4398-cf5f-f2579f5192d8"
      },
      "outputs": [
        {
          "data": {
            "image/png": "[encoded data removed]",
            "text/plain": [
              "<Figure size 640x480 with 1 Axes>"
            ]
          },
          "metadata": {},
          "output_type": "display_data"
        }
      ],
      "source": [
        "sns.barplot(df, x='landing_page', y='time_spent_on_the_page', hue='group');"
      ]
    },
    {
      "cell_type": "code",
      "execution_count": 34,
      "metadata": {
        "colab": {
          "base_uri": "https://localhost:8080/",
          "height": 450
        },
        "id": "LqfT7DiQSbqU",
        "outputId": "bbf4c41e-1898-42a5-b564-607d523bd08e"
      },
      "outputs": [
        {
          "data": {
            "image/png": "[encoded data removed]",
            "text/plain": [
              "<Figure size 640x480 with 1 Axes>"
            ]
          },
          "metadata": {},
          "output_type": "display_data"
        }
      ],
      "source": [
        "sns.boxplot(data=df, x='landing_page', y='time_spent_on_the_page', hue='group')\n",
        "plt.legend(loc='lower right');"
      ]
    },
    {
      "cell_type": "markdown",
      "metadata": {
        "id": "0jhCZqmlPzOT"
      },
      "source": [
        "###### Observations:\n",
        "* According to the graph, users spent more time on the new landing page compared to the old landing page."
      ]
    },
    {
      "cell_type": "markdown",
      "metadata": {
        "id": "yElgmrgfbmjZ"
      },
      "source": [
        "##### Hypothesis Analysis"
      ]
    },
    {
      "cell_type": "markdown",
      "metadata": {
        "id": "IcjRvtqvdOUa"
      },
      "source": [
        "###### **Step1:** Formulate the null & alternate hypothesis based on above question:\n",
        "\n",
        "* μ1 or mu1 = Mean time spent by users on the old page\n",
        "* μ2 or mu2 = Mean time spent by users on the new page\n",
        "\n",
        "* `Null Hypothesis H0`: **μ1 = μ2**\n",
        "* `Alternate Hypothesis Ha`: **μ1 < μ2**"
      ]
    },
    {
      "cell_type": "code",
      "execution_count": 35,
      "metadata": {
        "id": "aN00RcsUuP2c"
      },
      "outputs": [],
      "source": [
        "time_spent_for_old_page = df[df['landing_page'] == 'old']['time_spent_on_the_page']\n",
        "time_spent_for_new_page = df[df['landing_page'] == 'new']['time_spent_on_the_page']"
      ]
    },
    {
      "cell_type": "markdown",
      "metadata": {
        "id": "a5RNAHyXw4xq"
      },
      "source": [
        "###### **Step 2:** Select the appropiate test\n",
        "\n",
        "Assumptions:\n",
        "\n",
        "* The `time_spent_on_the_page` column is `continuous data`,\n",
        "* Normally distributed population\n",
        "* Two independent populations\n",
        "* `standard deviations` are `unknown`\n",
        "* Random sampling from the population\n",
        "\n",
        "We'll use => **`2_sample_independent_t_test`**\n",
        "\n",
        "* Equation or Formula: **stats.ttest_ind(sample1, sample2, alternative)**"
      ]
    },
    {
      "cell_type": "markdown",
      "metadata": {
        "id": "wfuv0RWBeN0u"
      },
      "source": [
        "###### **Step3:** Calculate the p-value"
      ]
    },
    {
      "cell_type": "code",
      "execution_count": 36,
      "metadata": {
        "colab": {
          "base_uri": "https://localhost:8080/"
        },
        "id": "FEdZoWP5y52j",
        "outputId": "78d154c1-6e6c-41e6-9fe5-117032933c7f"
      },
      "outputs": [
        {
          "name": "stdout",
          "output_type": "stream",
          "text": [
            "test_statistic: -3.7867702694199856\n",
            "p-value: 0.0001316123528095005\n"
          ]
        }
      ],
      "source": [
        "test_statistic, p_value = stats.ttest_ind(time_spent_for_old_page, time_spent_for_new_page, alternative='less')\n",
        "print('test_statistic:', test_statistic)\n",
        "print('p-value:', p_value)"
      ]
    },
    {
      "cell_type": "markdown",
      "metadata": {
        "id": "cQLSEltjfEN1"
      },
      "source": [
        "###### **Step4:** Inference based on the p-value"
      ]
    },
    {
      "cell_type": "code",
      "execution_count": 37,
      "metadata": {
        "colab": {
          "base_uri": "https://localhost:8080/"
        },
        "id": "vLMy5WeN5LNV",
        "outputId": "1da1bf96-3aa2-4e2b-e20d-56a7b8b0b9f1"
      },
      "outputs": [
        {
          "name": "stdout",
          "output_type": "stream",
          "text": [
            "As the p-value 0.00013 is less than the level of significance(0.05), we reject the null hypothesis.\n"
          ]
        }
      ],
      "source": [
        "if p_value < 0.05:\n",
        "    print(f'As the p-value {round(p_value,5)} is less than the level of significance({alpha}), we reject the null hypothesis.')\n",
        "else:\n",
        "    print(f'As the p-value {round(p_value,5)} is greater than the level of significance({alpha}), we fail to reject the null hypothesis.')"
      ]
    },
    {
      "cell_type": "markdown",
      "metadata": {
        "id": "ceFUG_3w5sBm"
      },
      "source": [
        "Observations:\n",
        "\n",
        "* At a 5% of significance level, we **`reject the null hypothesis`**. Hence, we have **enough statistical evidence** to say that the users spend **`more time`** on `the new landing page` **`than`** on `the existing landing page`."
      ]
    },
    {
      "cell_type": "markdown",
      "metadata": {
        "id": "uHVlJsfNe330"
      },
      "source": [
        "#### **Q2 Is the conversion rate (the proportion of users who visit the landing page and get converted) for the new page greater than the conversion rate for the old page?**"
      ]
    },
    {
      "cell_type": "markdown",
      "metadata": {
        "id": "wRCKvbHPbuvW"
      },
      "source": [
        "##### Visual Analysis"
      ]
    },
    {
      "cell_type": "code",
      "execution_count": 38,
      "metadata": {
        "colab": {
          "base_uri": "https://localhost:8080/",
          "height": 505
        },
        "id": "yluZ6K56fMcY",
        "outputId": "25189492-6332-4e8c-e64d-e38b0471aaa2"
      },
      "outputs": [
        {
          "data": {
            "image/png": "[encoded data removed]",
            "text/plain": [
              "<Figure size 640x480 with 1 Axes>"
            ]
          },
          "metadata": {},
          "output_type": "display_data"
        }
      ],
      "source": [
        "pd.crosstab(df['group'], df['converted']).plot.bar(stacked = True)\n",
        "plt.legend(loc='upper right');"
      ]
    },
    {
      "cell_type": "code",
      "execution_count": 39,
      "metadata": {
        "colab": {
          "base_uri": "https://localhost:8080/",
          "height": 449
        },
        "id": "S98-9TU28E2S",
        "outputId": "42bbb55e-91ba-4f94-80ca-e7fb76d53fbb"
      },
      "outputs": [
        {
          "data": {
            "image/png": "[encoded data removed]",
            "text/plain": [
              "<Figure size 640x480 with 1 Axes>"
            ]
          },
          "metadata": {},
          "output_type": "display_data"
        }
      ],
      "source": [
        "sns.countplot(df, x='group', hue='converted');"
      ]
    },
    {
      "cell_type": "code",
      "execution_count": 40,
      "metadata": {
        "colab": {
          "base_uri": "https://localhost:8080/",
          "height": 449
        },
        "id": "RzJY-H34Uzdh",
        "outputId": "bbb85246-6cf9-4766-cd1e-b7fbcfdfef60"
      },
      "outputs": [
        {
          "data": {
            "image/png": "[encoded data removed]",
            "text/plain": [
              "<Figure size 640x480 with 1 Axes>"
            ]
          },
          "metadata": {},
          "output_type": "display_data"
        }
      ],
      "source": [
        "sns.barplot(df, x ='converted', y='time_spent_on_the_page', hue='converted');"
      ]
    },
    {
      "cell_type": "code",
      "execution_count": 41,
      "metadata": {
        "colab": {
          "base_uri": "https://localhost:8080/",
          "height": 449
        },
        "id": "hGn13a5gU51g",
        "outputId": "282d2c92-c5c2-425b-bb94-df0fabac7985"
      },
      "outputs": [
        {
          "data": {
            "image/png": "[encoded data removed]",
            "text/plain": [
              "<Figure size 640x480 with 1 Axes>"
            ]
          },
          "metadata": {},
          "output_type": "display_data"
        }
      ],
      "source": [
        "sns.boxplot(data=df, x='converted', y='time_spent_on_the_page', hue='converted');"
      ]
    },
    {
      "cell_type": "markdown",
      "metadata": {
        "id": "N7HUweqG9LJj"
      },
      "source": [
        "Observations:\n",
        "\n",
        "* As observed, **more** users are converting on the `new landing page` compared to the `old landing page`.\n",
        "* According to the graph, users spent more time on the `new landing page` and **converted at a higher rate** compared to the `old landing page`."
      ]
    },
    {
      "cell_type": "markdown",
      "metadata": {
        "id": "EFVO4fNpbxxE"
      },
      "source": [
        "##### Hypothesis Analysis"
      ]
    },
    {
      "cell_type": "markdown",
      "metadata": {
        "id": "4ZClOutSivBS"
      },
      "source": [
        "###### **Step1:** Formulate the null & alternate hypothesis based on above question:\n",
        "\n",
        "* p1: is the proportion of users who visits the old landing page & get converted\n",
        "* p2: is the proportion of users who visits the new landing page & get converted\n",
        "\n",
        "* `Null Hypothesis H0`: **p1 = p2**\n",
        "* `Alternate Hypothesis Ha`: **p1 < p2**"
      ]
    },
    {
      "cell_type": "markdown",
      "metadata": {
        "id": "_hf64pXz_tNP"
      },
      "source": [
        "###### **Step 2:** Select the appropiate test\n",
        "\n",
        "Assumptions:\n",
        "* There are only two possible outcomes (converted or not-converted)\n",
        "* Random sampling from the populations.\n",
        "* Compare the sample `proportions` from `two populations`.\n",
        "\n",
        "We'll use => **`2_proportion_sample_z_test`**"
      ]
    },
    {
      "cell_type": "code",
      "execution_count": 42,
      "metadata": {
        "colab": {
          "base_uri": "https://localhost:8080/"
        },
        "id": "D5QPpfrZB1A5",
        "outputId": "ea07d849-3683-4fe5-8f63-77a447eb3d7d"
      },
      "outputs": [
        {
          "name": "stdout",
          "output_type": "stream",
          "text": [
            "old_converted_count: 21\n",
            "new_converted_count: 33\n"
          ]
        }
      ],
      "source": [
        "old_converted_count = len(df.loc[(df['landing_page'] == 'old') & (df['converted'] == 'yes')])\n",
        "new_converted_count = len(df.loc[(df['landing_page'] == 'new') & (df['converted'] == 'yes')])\n",
        "\n",
        "print('old_converted_count:', old_converted_count)\n",
        "print('new_converted_count:', new_converted_count)"
      ]
    },
    {
      "cell_type": "code",
      "execution_count": 43,
      "metadata": {
        "id": "v37VPYu9m4-A"
      },
      "outputs": [],
      "source": [
        "converted_count = np.array([old_converted_count, new_converted_count])\n",
        "total_sample = np.array([50, 50])"
      ]
    },
    {
      "cell_type": "markdown",
      "metadata": {
        "id": "PmkFk1O_k0I3"
      },
      "source": [
        "###### **Step3:** Calculate the p-value"
      ]
    },
    {
      "cell_type": "code",
      "execution_count": 44,
      "metadata": {
        "colab": {
          "base_uri": "https://localhost:8080/"
        },
        "id": "HdV9EYde_DRh",
        "outputId": "0134bc83-3215-475f-ef1b-558ed06afbd9"
      },
      "outputs": [
        {
          "name": "stdout",
          "output_type": "stream",
          "text": [
            "test_statistics: -2.4077170617153842\n",
            "p-value: 0.016052616408112556\n"
          ]
        }
      ],
      "source": [
        "from statsmodels.stats.proportion import proportions_ztest\n",
        "test_statistics, p_value = proportions_ztest(converted_count, total_sample)\n",
        "print('test_statistics:', test_statistics)\n",
        "print('p-value:', p_value)"
      ]
    },
    {
      "cell_type": "markdown",
      "metadata": {
        "id": "WR5U06nelVSD"
      },
      "source": [
        "###### **Step4:** Inference based on the p-value"
      ]
    },
    {
      "cell_type": "code",
      "execution_count": 45,
      "metadata": {
        "colab": {
          "base_uri": "https://localhost:8080/"
        },
        "id": "pDBA1clruCFT",
        "outputId": "71eefb9c-a159-47db-93e1-71d218568c57"
      },
      "outputs": [
        {
          "name": "stdout",
          "output_type": "stream",
          "text": [
            "As the p-value 0.016 is less than the level of significance(0.05), we reject the null hypothesis.\n"
          ]
        }
      ],
      "source": [
        "if p_value < 0.05:\n",
        "    print(f'As the p-value {round(p_value,3)} is less than the level of significance({alpha}), we reject the null hypothesis.')\n",
        "else:\n",
        "    print(f'As the p-value {round(p_value,3)} is greater than the level of significance({alpha}), we fail to reject the null hypothesis.')"
      ]
    },
    {
      "cell_type": "markdown",
      "metadata": {
        "id": "tSyxRCTYugEE"
      },
      "source": [
        "Observations:\n",
        "\n",
        "* At a 5% of significance level, we **`reject the null hypothesis`**. Hence, we have **enough statistical evidence** to say that the `proportion` of users who visit the `new landing page` and `get convert` is **greater than** the conversion rate for the `old landing page`."
      ]
    },
    {
      "cell_type": "markdown",
      "metadata": {
        "id": "30xSoWyKfOG5"
      },
      "source": [
        "#### **Q3 Does the converted status depend on the preferred language?**"
      ]
    },
    {
      "cell_type": "markdown",
      "metadata": {
        "id": "VMgW0peRb9ac"
      },
      "source": [
        "##### Visual Analysis"
      ]
    },
    {
      "cell_type": "code",
      "execution_count": 46,
      "metadata": {
        "colab": {
          "base_uri": "https://localhost:8080/",
          "height": 459
        },
        "id": "XrN04LuloQhp",
        "outputId": "b632be7a-7cd6-467d-a178-18e6d90341e0"
      },
      "outputs": [
        {
          "data": {
            "image/png": "[encoded data removed]",
            "text/plain": [
              "<Figure size 640x480 with 1 Axes>"
            ]
          },
          "metadata": {},
          "output_type": "display_data"
        }
      ],
      "source": [
        "pd.crosstab(df['converted'], df['language_preferred']).plot.bar(stacked = True)\n",
        "plt.legend(loc='upper right');"
      ]
    },
    {
      "cell_type": "markdown",
      "metadata": {
        "id": "i4SUwKJyouDp"
      },
      "source": [
        "###### Observations:\n",
        "* It appears that there `may be` `no relationship` between the `converted` and `language_preferred` columns."
      ]
    },
    {
      "cell_type": "markdown",
      "metadata": {
        "id": "4Tx-VIIZb3xx"
      },
      "source": [
        "##### Hypothesis Analysis"
      ]
    },
    {
      "cell_type": "markdown",
      "metadata": {
        "id": "YlEhKv1ajaDs"
      },
      "source": [
        "###### **Step1:** Formulate the null & alternate hypothesis based on above question:\n",
        "\n",
        "* `Null Hypothesis H0`: **User Converted status and Preferred language are independent**\n",
        "* `Alternate Hypothesis Ha`: **User Converted status and Preferred language are dependent**"
      ]
    },
    {
      "cell_type": "markdown",
      "metadata": {
        "id": "ibk1atMxzCE-"
      },
      "source": [
        "###### **Step 2:** Select the appropiate test\n",
        "Assumptions:\n",
        "* We have two categorical variables i.e. `Converted` status and `language_preferred`.\n",
        "* Random sampling from the population.\n",
        "* Expected value of the number of sample observations in each level of the varibale is atleast 5.\n",
        "\n",
        "We'll use => **Chi_square_test of independence.**\n",
        "\n",
        "formula is: **stats.`chi2_contingency`(`contingency_table`)**\n",
        "\n",
        "* To perform the Chi-squared test of independance we need to create the contingency table.\n",
        "* A contingency table is a tabular representation of categorical data.\n",
        "* The pandas crosstab() function is used to create a contingency table."
      ]
    },
    {
      "cell_type": "code",
      "execution_count": 47,
      "metadata": {
        "colab": {
          "base_uri": "https://localhost:8080/",
          "height": 143
        },
        "id": "tqmtr8yjfRpB",
        "outputId": "0f9ae85c-cfb0-44f4-8b08-18c2c91f8454"
      },
      "outputs": [
        {
          "data": {
            "application/vnd.google.colaboratory.intrinsic+json": {
              "summary": "{\n  \"name\": \"contingency_table\",\n  \"rows\": 2,\n  \"fields\": [\n    {\n      \"column\": \"converted\",\n      \"properties\": {\n        \"dtype\": \"string\",\n        \"num_unique_values\": 2,\n        \"samples\": [\n          \"yes\",\n          \"no\"\n        ],\n        \"semantic_type\": \"\",\n        \"description\": \"\"\n      }\n    },\n    {\n      \"column\": \"English\",\n      \"properties\": {\n        \"dtype\": \"number\",\n        \"std\": 7,\n        \"min\": 11,\n        \"max\": 21,\n        \"num_unique_values\": 2,\n        \"samples\": [\n          21,\n          11\n        ],\n        \"semantic_type\": \"\",\n        \"description\": \"\"\n      }\n    },\n    {\n      \"column\": \"French\",\n      \"properties\": {\n        \"dtype\": \"number\",\n        \"std\": 2,\n        \"min\": 15,\n        \"max\": 19,\n        \"num_unique_values\": 2,\n        \"samples\": [\n          15,\n          19\n        ],\n        \"semantic_type\": \"\",\n        \"description\": \"\"\n      }\n    },\n    {\n      \"column\": \"Spanish\",\n      \"properties\": {\n        \"dtype\": \"number\",\n        \"std\": 1,\n        \"min\": 16,\n        \"max\": 18,\n        \"num_unique_values\": 2,\n        \"samples\": [\n          18,\n          16\n        ],\n        \"semantic_type\": \"\",\n        \"description\": \"\"\n      }\n    }\n  ]\n}",
              "type": "dataframe",
              "variable_name": "contingency_table"
            },
            "text/html": [
              "\n",
              "  <div id=\"df-e54aac05-6780-462e-acc2-a413afcd9469\" class=\"colab-df-container\">\n",
              "    <div>\n",
              "<style scoped>\n",
              "    .dataframe tbody tr th:only-of-type {\n",
              "        vertical-align: middle;\n",
              "    }\n",
              "\n",
              "    .dataframe tbody tr th {\n",
              "        vertical-align: top;\n",
              "    }\n",
              "\n",
              "    .dataframe thead th {\n",
              "        text-align: right;\n",
              "    }\n",
              "</style>\n",
              "<table border=\"1\" class=\"dataframe\">\n",
              "  <thead>\n",
              "    <tr style=\"text-align: right;\">\n",
              "      <th>language_preferred</th>\n",
              "      <th>English</th>\n",
              "      <th>French</th>\n",
              "      <th>Spanish</th>\n",
              "    </tr>\n",
              "    <tr>\n",
              "      <th>converted</th>\n",
              "      <th></th>\n",
              "      <th></th>\n",
              "      <th></th>\n",
              "    </tr>\n",
              "  </thead>\n",
              "  <tbody>\n",
              "    <tr>\n",
              "      <th>no</th>\n",
              "      <td>11</td>\n",
              "      <td>19</td>\n",
              "      <td>16</td>\n",
              "    </tr>\n",
              "    <tr>\n",
              "      <th>yes</th>\n",
              "      <td>21</td>\n",
              "      <td>15</td>\n",
              "      <td>18</td>\n",
              "    </tr>\n",
              "  </tbody>\n",
              "</table>\n",
              "</div>\n",
              "    <div class=\"colab-df-buttons\">\n",
              "\n",
              "  <div class=\"colab-df-container\">\n",
              "    <button class=\"colab-df-convert\" onclick=\"convertToInteractive('df-e54aac05-6780-462e-acc2-a413afcd9469')\"\n",
              "            title=\"Convert this dataframe to an interactive table.\"\n",
              "            style=\"display:none;\">\n",
              "\n",
              "  <svg xmlns=\"http://www.w3.org/2000/svg\" height=\"24px\" viewBox=\"0 -960 960 960\">\n",
              "    <path d=\"M120-120v-720h720v720H120Zm60-500h600v-160H180v160Zm220 220h160v-160H400v160Zm0 220h160v-160H400v160ZM180-400h160v-160H180v160Zm440 0h160v-160H620v160ZM180-180h160v-160H180v160Zm440 0h160v-160H620v160Z\"/>\n",
              "  </svg>\n",
              "    </button>\n",
              "\n",
              "  <style>\n",
              "    .colab-df-container {\n",
              "      display:flex;\n",
              "      gap: 12px;\n",
              "    }\n",
              "\n",
              "    .colab-df-convert {\n",
              "      background-color: #E8F0FE;\n",
              "      border: none;\n",
              "      border-radius: 50%;\n",
              "      cursor: pointer;\n",
              "      display: none;\n",
              "      fill: #1967D2;\n",
              "      height: 32px;\n",
              "      padding: 0 0 0 0;\n",
              "      width: 32px;\n",
              "    }\n",
              "\n",
              "    .colab-df-convert:hover {\n",
              "      background-color: #E2EBFA;\n",
              "      box-shadow: 0px 1px 2px rgba(60, 64, 67, 0.3), 0px 1px 3px 1px rgba(60, 64, 67, 0.15);\n",
              "      fill: #174EA6;\n",
              "    }\n",
              "\n",
              "    .colab-df-buttons div {\n",
              "      margin-bottom: 4px;\n",
              "    }\n",
              "\n",
              "    [theme=dark] .colab-df-convert {\n",
              "      background-color: #3B4455;\n",
              "      fill: #D2E3FC;\n",
              "    }\n",
              "\n",
              "    [theme=dark] .colab-df-convert:hover {\n",
              "      background-color: #434B5C;\n",
              "      box-shadow: 0px 1px 3px 1px rgba(0, 0, 0, 0.15);\n",
              "      filter: drop-shadow(0px 1px 2px rgba(0, 0, 0, 0.3));\n",
              "      fill: #FFFFFF;\n",
              "    }\n",
              "  </style>\n",
              "\n",
              "    <script>\n",
              "      const buttonEl =\n",
              "        document.querySelector('#df-e54aac05-6780-462e-acc2-a413afcd9469 button.colab-df-convert');\n",
              "      buttonEl.style.display =\n",
              "        google.colab.kernel.accessAllowed ? 'block' : 'none';\n",
              "\n",
              "      async function convertToInteractive(key) {\n",
              "        const element = document.querySelector('#df-e54aac05-6780-462e-acc2-a413afcd9469');\n",
              "        const dataTable =\n",
              "          await google.colab.kernel.invokeFunction('convertToInteractive',\n",
              "                                                    [key], {});\n",
              "        if (!dataTable) return;\n",
              "\n",
              "        const docLinkHtml = 'Like what you see? Visit the ' +\n",
              "          '<a target=\"_blank\" href=https://colab.research.google.com/notebooks/data_table.ipynb>data table notebook</a>'\n",
              "          + ' to learn more about interactive tables.';\n",
              "        element.innerHTML = '';\n",
              "        dataTable['output_type'] = 'display_data';\n",
              "        await google.colab.output.renderOutput(dataTable, element);\n",
              "        const docLink = document.createElement('div');\n",
              "        docLink.innerHTML = docLinkHtml;\n",
              "        element.appendChild(docLink);\n",
              "      }\n",
              "    </script>\n",
              "  </div>\n",
              "\n",
              "\n",
              "<div id=\"df-d0aa83f6-8676-4416-8c8a-7bee4f4c7001\">\n",
              "  <button class=\"colab-df-quickchart\" onclick=\"quickchart('df-d0aa83f6-8676-4416-8c8a-7bee4f4c7001')\"\n",
              "            title=\"Suggest charts\"\n",
              "            style=\"display:none;\">\n",
              "\n",
              "<svg xmlns=\"http://www.w3.org/2000/svg\" height=\"24px\"viewBox=\"0 0 24 24\"\n",
              "     width=\"24px\">\n",
              "    <g>\n",
              "        <path d=\"M19 3H5c-1.1 0-2 .9-2 2v14c0 1.1.9 2 2 2h14c1.1 0 2-.9 2-2V5c0-1.1-.9-2-2-2zM9 17H7v-7h2v7zm4 0h-2V7h2v10zm4 0h-2v-4h2v4z\"/>\n",
              "    </g>\n",
              "</svg>\n",
              "  </button>\n",
              "\n",
              "<style>\n",
              "  .colab-df-quickchart {\n",
              "      --bg-color: #E8F0FE;\n",
              "      --fill-color: #1967D2;\n",
              "      --hover-bg-color: #E2EBFA;\n",
              "      --hover-fill-color: #174EA6;\n",
              "      --disabled-fill-color: #AAA;\n",
              "      --disabled-bg-color: #DDD;\n",
              "  }\n",
              "\n",
              "  [theme=dark] .colab-df-quickchart {\n",
              "      --bg-color: #3B4455;\n",
              "      --fill-color: #D2E3FC;\n",
              "      --hover-bg-color: #434B5C;\n",
              "      --hover-fill-color: #FFFFFF;\n",
              "      --disabled-bg-color: #3B4455;\n",
              "      --disabled-fill-color: #666;\n",
              "  }\n",
              "\n",
              "  .colab-df-quickchart {\n",
              "    background-color: var(--bg-color);\n",
              "    border: none;\n",
              "    border-radius: 50%;\n",
              "    cursor: pointer;\n",
              "    display: none;\n",
              "    fill: var(--fill-color);\n",
              "    height: 32px;\n",
              "    padding: 0;\n",
              "    width: 32px;\n",
              "  }\n",
              "\n",
              "  .colab-df-quickchart:hover {\n",
              "    background-color: var(--hover-bg-color);\n",
              "    box-shadow: 0 1px 2px rgba(60, 64, 67, 0.3), 0 1px 3px 1px rgba(60, 64, 67, 0.15);\n",
              "    fill: var(--button-hover-fill-color);\n",
              "  }\n",
              "\n",
              "  .colab-df-quickchart-complete:disabled,\n",
              "  .colab-df-quickchart-complete:disabled:hover {\n",
              "    background-color: var(--disabled-bg-color);\n",
              "    fill: var(--disabled-fill-color);\n",
              "    box-shadow: none;\n",
              "  }\n",
              "\n",
              "  .colab-df-spinner {\n",
              "    border: 2px solid var(--fill-color);\n",
              "    border-color: transparent;\n",
              "    border-bottom-color: var(--fill-color);\n",
              "    animation:\n",
              "      spin 1s steps(1) infinite;\n",
              "  }\n",
              "\n",
              "  @keyframes spin {\n",
              "    0% {\n",
              "      border-color: transparent;\n",
              "      border-bottom-color: var(--fill-color);\n",
              "      border-left-color: var(--fill-color);\n",
              "    }\n",
              "    20% {\n",
              "      border-color: transparent;\n",
              "      border-left-color: var(--fill-color);\n",
              "      border-top-color: var(--fill-color);\n",
              "    }\n",
              "    30% {\n",
              "      border-color: transparent;\n",
              "      border-left-color: var(--fill-color);\n",
              "      border-top-color: var(--fill-color);\n",
              "      border-right-color: var(--fill-color);\n",
              "    }\n",
              "    40% {\n",
              "      border-color: transparent;\n",
              "      border-right-color: var(--fill-color);\n",
              "      border-top-color: var(--fill-color);\n",
              "    }\n",
              "    60% {\n",
              "      border-color: transparent;\n",
              "      border-right-color: var(--fill-color);\n",
              "    }\n",
              "    80% {\n",
              "      border-color: transparent;\n",
              "      border-right-color: var(--fill-color);\n",
              "      border-bottom-color: var(--fill-color);\n",
              "    }\n",
              "    90% {\n",
              "      border-color: transparent;\n",
              "      border-bottom-color: var(--fill-color);\n",
              "    }\n",
              "  }\n",
              "</style>\n",
              "\n",
              "  <script>\n",
              "    async function quickchart(key) {\n",
              "      const quickchartButtonEl =\n",
              "        document.querySelector('#' + key + ' button');\n",
              "      quickchartButtonEl.disabled = true;  // To prevent multiple clicks.\n",
              "      quickchartButtonEl.classList.add('colab-df-spinner');\n",
              "      try {\n",
              "        const charts = await google.colab.kernel.invokeFunction(\n",
              "            'suggestCharts', [key], {});\n",
              "      } catch (error) {\n",
              "        console.error('Error during call to suggestCharts:', error);\n",
              "      }\n",
              "      quickchartButtonEl.classList.remove('colab-df-spinner');\n",
              "      quickchartButtonEl.classList.add('colab-df-quickchart-complete');\n",
              "    }\n",
              "    (() => {\n",
              "      let quickchartButtonEl =\n",
              "        document.querySelector('#df-d0aa83f6-8676-4416-8c8a-7bee4f4c7001 button');\n",
              "      quickchartButtonEl.style.display =\n",
              "        google.colab.kernel.accessAllowed ? 'block' : 'none';\n",
              "    })();\n",
              "  </script>\n",
              "</div>\n",
              "\n",
              "  <div id=\"id_7af6e42b-8af5-45c3-9b25-19d0d6995d40\">\n",
              "    <style>\n",
              "      .colab-df-generate {\n",
              "        background-color: #E8F0FE;\n",
              "        border: none;\n",
              "        border-radius: 50%;\n",
              "        cursor: pointer;\n",
              "        display: none;\n",
              "        fill: #1967D2;\n",
              "        height: 32px;\n",
              "        padding: 0 0 0 0;\n",
              "        width: 32px;\n",
              "      }\n",
              "\n",
              "      .colab-df-generate:hover {\n",
              "        background-color: #E2EBFA;\n",
              "        box-shadow: 0px 1px 2px rgba(60, 64, 67, 0.3), 0px 1px 3px 1px rgba(60, 64, 67, 0.15);\n",
              "        fill: #174EA6;\n",
              "      }\n",
              "\n",
              "      [theme=dark] .colab-df-generate {\n",
              "        background-color: #3B4455;\n",
              "        fill: #D2E3FC;\n",
              "      }\n",
              "\n",
              "      [theme=dark] .colab-df-generate:hover {\n",
              "        background-color: #434B5C;\n",
              "        box-shadow: 0px 1px 3px 1px rgba(0, 0, 0, 0.15);\n",
              "        filter: drop-shadow(0px 1px 2px rgba(0, 0, 0, 0.3));\n",
              "        fill: #FFFFFF;\n",
              "      }\n",
              "    </style>\n",
              "    <button class=\"colab-df-generate\" onclick=\"generateWithVariable('contingency_table')\"\n",
              "            title=\"Generate code using this dataframe.\"\n",
              "            style=\"display:none;\">\n",
              "\n",
              "  <svg xmlns=\"http://www.w3.org/2000/svg\" height=\"24px\"viewBox=\"0 0 24 24\"\n",
              "       width=\"24px\">\n",
              "    <path d=\"M7,19H8.4L18.45,9,17,7.55,7,17.6ZM5,21V16.75L18.45,3.32a2,2,0,0,1,2.83,0l1.4,1.43a1.91,1.91,0,0,1,.58,1.4,1.91,1.91,0,0,1-.58,1.4L9.25,21ZM18.45,9,17,7.55Zm-12,3A5.31,5.31,0,0,0,4.9,8.1,5.31,5.31,0,0,0,1,6.5,5.31,5.31,0,0,0,4.9,4.9,5.31,5.31,0,0,0,6.5,1,5.31,5.31,0,0,0,8.1,4.9,5.31,5.31,0,0,0,12,6.5,5.46,5.46,0,0,0,6.5,12Z\"/>\n",
              "  </svg>\n",
              "    </button>\n",
              "    <script>\n",
              "      (() => {\n",
              "      const buttonEl =\n",
              "        document.querySelector('#id_7af6e42b-8af5-45c3-9b25-19d0d6995d40 button.colab-df-generate');\n",
              "      buttonEl.style.display =\n",
              "        google.colab.kernel.accessAllowed ? 'block' : 'none';\n",
              "\n",
              "      buttonEl.onclick = () => {\n",
              "        google.colab.notebook.generateWithVariable('contingency_table');\n",
              "      }\n",
              "      })();\n",
              "    </script>\n",
              "  </div>\n",
              "\n",
              "    </div>\n",
              "  </div>\n"
            ],
            "text/plain": [
              "language_preferred  English  French  Spanish\n",
              "converted                                   \n",
              "no                       11      19       16\n",
              "yes                      21      15       18"
            ]
          },
          "execution_count": 47,
          "metadata": {},
          "output_type": "execute_result"
        }
      ],
      "source": [
        "contingency_table = pd.crosstab(df['converted'], df['language_preferred'])\n",
        "contingency_table"
      ]
    },
    {
      "cell_type": "markdown",
      "metadata": {
        "id": "irT_UU13k38X"
      },
      "source": [
        "###### **Step3:** Calculate the p-value"
      ]
    },
    {
      "cell_type": "code",
      "execution_count": 48,
      "metadata": {
        "colab": {
          "base_uri": "https://localhost:8080/"
        },
        "id": "NEOZ4XQFwoLS",
        "outputId": "a0f8b2f4-139c-4784-f5de-f673ac3a75b9"
      },
      "outputs": [
        {
          "name": "stdout",
          "output_type": "stream",
          "text": [
            "chi2_statistic 3.0930306905370837\n",
            "p_value 0.21298887487543447\n"
          ]
        }
      ],
      "source": [
        "chi2_statistic, p_value, dof, expected = stats.chi2_contingency(contingency_table)\n",
        "print('chi2_statistic', chi2_statistic)\n",
        "print('p_value', p_value)"
      ]
    },
    {
      "cell_type": "markdown",
      "metadata": {
        "id": "Emw9KZ83lXas"
      },
      "source": [
        "###### **Step4:** Inference based on the p-value"
      ]
    },
    {
      "cell_type": "code",
      "execution_count": 49,
      "metadata": {
        "colab": {
          "base_uri": "https://localhost:8080/"
        },
        "id": "-e4bCelexFYq",
        "outputId": "376a93e9-d335-4dc9-b154-a135837e4ce7"
      },
      "outputs": [
        {
          "name": "stdout",
          "output_type": "stream",
          "text": [
            "As the p-value 0.213 is greater than the level of significance(0.05), we fail to reject the null hypothesis.\n"
          ]
        }
      ],
      "source": [
        "if p_value < 0.05:\n",
        "    print(f'As the p-value {round(p_value,3)} is less than the level of significance({alpha}), we reject the null hypothesis.')\n",
        "else:\n",
        "    print(f'As the p-value {round(p_value,3)} is greater than the level of significance({alpha}), we fail to reject the null hypothesis.')"
      ]
    },
    {
      "cell_type": "markdown",
      "metadata": {
        "id": "06-zYssmxJNx"
      },
      "source": [
        "Observations:\n",
        "\n",
        "* At a 5% of significance level, we **`fail to reject the null hypothesis`**. Hence, we **do not have enough statistical evidence** to say that Converted status and Preferred language are independent."
      ]
    },
    {
      "cell_type": "markdown",
      "metadata": {
        "id": "7iPbSyOxfSd7"
      },
      "source": [
        "#### **Q4 Is the time spent on the new page the same for the different language users?**"
      ]
    },
    {
      "cell_type": "markdown",
      "metadata": {
        "id": "PUH16NgVcBhL"
      },
      "source": [
        "##### Visual Analysis"
      ]
    },
    {
      "cell_type": "code",
      "execution_count": 50,
      "metadata": {
        "colab": {
          "base_uri": "https://localhost:8080/",
          "height": 450
        },
        "id": "Y0wrMC6KW0sg",
        "outputId": "a615851f-8f47-4c1b-bbb4-b35122498d2a"
      },
      "outputs": [
        {
          "data": {
            "image/png": "[encoded data removed]",
            "text/plain": [
              "<Figure size 640x480 with 1 Axes>"
            ]
          },
          "metadata": {},
          "output_type": "display_data"
        }
      ],
      "source": [
        "sns.barplot(df, x ='language_preferred', y='time_spent_on_the_page', hue='language_preferred');"
      ]
    },
    {
      "cell_type": "code",
      "execution_count": 51,
      "metadata": {
        "colab": {
          "base_uri": "https://localhost:8080/",
          "height": 450
        },
        "id": "Vv1xRqTkW7Se",
        "outputId": "1969c516-aec2-4282-b00d-e99d892e6fce"
      },
      "outputs": [
        {
          "data": {
            "image/png": "[encoded data removed]",
            "text/plain": [
              "<Figure size 640x480 with 1 Axes>"
            ]
          },
          "metadata": {},
          "output_type": "display_data"
        }
      ],
      "source": [
        "sns.boxplot(data=df, x='language_preferred', y='time_spent_on_the_page', hue='language_preferred');"
      ]
    },
    {
      "cell_type": "markdown",
      "metadata": {
        "id": "Fz_SAajHXEvl"
      },
      "source": [
        "###### Observations:\n",
        "* According to the graph, the medians are nearly identical across all the languages."
      ]
    },
    {
      "cell_type": "markdown",
      "metadata": {
        "id": "D98v3S5ucE9S"
      },
      "source": [
        "##### Hypothesis Analysis"
      ]
    },
    {
      "cell_type": "markdown",
      "metadata": {
        "id": "oaMhmZ__joxj"
      },
      "source": [
        "###### **Step 4.1:** Formulate the null & alternate hypothesis based on above question:\n",
        "\n",
        "* μ1 or mu1 : Mean time spent by users on the new page for Spanish languages\n",
        "* μ2 or mu2 : Mean time spent by users on the new page for French languages\n",
        "* μ3 or mu3 : Mean time spent by users on the new page for English languages\n",
        "\n",
        "\n",
        "* `Null Hypothesis H0`: **μ1 = μ2 = μ3 : Mean time spent by user on the new page is the same for all preferred language (Spanish, French, and English).**\n",
        "* `Alternate Hypothesis Ha`: **Atleast one of these means if not the same**"
      ]
    },
    {
      "cell_type": "code",
      "execution_count": 52,
      "metadata": {
        "id": "OcoJlm29fT3X"
      },
      "outputs": [],
      "source": [
        "new_page_df = df[df['landing_page'] == 'new']"
      ]
    },
    {
      "cell_type": "code",
      "execution_count": 53,
      "metadata": {
        "id": "2flcrkKG_guy"
      },
      "outputs": [],
      "source": [
        "spent_time_spanish_on_new_page = new_page_df[new_page_df['language_preferred'] == 'Spanish']['time_spent_on_the_page']\n",
        "spent_time_french_on_new_page = new_page_df[new_page_df['language_preferred'] == 'French']['time_spent_on_the_page']\n",
        "spent_time_english_on_new_page = new_page_df[new_page_df['language_preferred'] == 'English']['time_spent_on_the_page']"
      ]
    },
    {
      "cell_type": "markdown",
      "metadata": {
        "id": "lvzyi-cK5YDP"
      },
      "source": [
        "###### **Step 4.2:** Select the appropiate test\n",
        "\n",
        "Assumptions:\n",
        "* `More than two indepedent populations`.\n",
        "* time spend on the new page is `continuous` in nature\n",
        "* `Population variances are equal`\n",
        "* The population are normally distributed\n",
        "* Samples are independent.\n",
        "\n",
        "We'll use => **One_way_ANOVA F-test**\n",
        "\n",
        "Equations or Formula:  **`stats.f_oneway(sample1, sample2, sample3, .....)`**\n",
        "\n",
        "\n",
        "The results from an ANOVA test are most reliable when the assumptions of normality and equality of variances are satisfied.\n",
        "\n",
        "* For `testing of normality`, **Shapiro-Wilk’s test** is applied to the response variable.\n",
        "\n",
        "* For `equality of variance`, **Levene test** is applied to the response variable."
      ]
    },
    {
      "cell_type": "markdown",
      "metadata": {
        "id": "mPQETFBC7iMm"
      },
      "source": [
        "###### Testing of Normality : **`Shapiro-Wilk's Test`**"
      ]
    },
    {
      "cell_type": "markdown",
      "metadata": {
        "id": "vcRoSgUEpXit"
      },
      "source": [
        "###### **Step I:** Formulate the null & alternate hypothesis for `testing of normality`:\n",
        "\n",
        "* `Null Hypothesis H0`: **Mean time spent by users on the new page follow a normal distribution**\n",
        "* `Alternate Hypothesis Ha`: **Mean time spent by users on the new page does not follow a normal distribution**"
      ]
    },
    {
      "cell_type": "markdown",
      "metadata": {
        "id": "MJY4KWcelEgn"
      },
      "source": [
        "###### **Step II:** Calculate the p-value for `testing of normality`:"
      ]
    },
    {
      "cell_type": "code",
      "execution_count": 54,
      "metadata": {
        "colab": {
          "base_uri": "https://localhost:8080/"
        },
        "id": "wS6gKwfc8K4_",
        "outputId": "85faec57-f6ac-44ec-e00a-1aea1c853b44"
      },
      "outputs": [
        {
          "name": "stdout",
          "output_type": "stream",
          "text": [
            "p_value: 0.8040040364746845\n"
          ]
        }
      ],
      "source": [
        "w, p_value = stats.shapiro(new_page_df['time_spent_on_the_page'])\n",
        "print('p_value:', p_value)"
      ]
    },
    {
      "cell_type": "markdown",
      "metadata": {
        "id": "svLRZHDflbm_"
      },
      "source": [
        "###### **Step III:** Inference based on the p-value for `testing of normality`:"
      ]
    },
    {
      "cell_type": "code",
      "execution_count": 55,
      "metadata": {
        "colab": {
          "base_uri": "https://localhost:8080/"
        },
        "id": "EMsxm3gR8v6r",
        "outputId": "e0e25a0c-c549-4334-996f-51ff90a80123"
      },
      "outputs": [
        {
          "name": "stdout",
          "output_type": "stream",
          "text": [
            "As the p-value 0.804 is greater than the level of significance(0.05), we fail to reject the null hypothesis.\n"
          ]
        }
      ],
      "source": [
        "if p_value < 0.05:\n",
        "    print(f'As the p-value {round(p_value,3)} is less than the level of significance({alpha}), we reject the null hypothesis.')\n",
        "else:\n",
        "    print(f'As the p-value {round(p_value,3)} is greater than the level of significance({alpha}), we fail to reject the null hypothesis.')"
      ]
    },
    {
      "cell_type": "markdown",
      "metadata": {
        "id": "iw7D-_7O88Lq"
      },
      "source": [
        "Observations:\n",
        "\n",
        "* At a 5% of significance level, we **`fail to reject the null hypothesis`**. Hence, we **do not have enough statistical evidence** to say that Mean time spent by users on the new page follow a normal distribution."
      ]
    },
    {
      "cell_type": "markdown",
      "metadata": {
        "id": "d4gJ8rRA9bHR"
      },
      "source": [
        "###### Equality of Variance : **`Levene's Test`**"
      ]
    },
    {
      "cell_type": "markdown",
      "metadata": {
        "id": "vMP54teJxy6c"
      },
      "source": [
        "###### **Step A:** Formulate the null & alternate hypothesis for `Equality of Variance`:\n",
        "\n",
        "* `Null Hypothesis H0`: **All the population Variances are equal**\n",
        "* `Alternate Hypothesis Ha`: **At least one Variance is different from the test**"
      ]
    },
    {
      "cell_type": "markdown",
      "metadata": {
        "id": "6_-3YEXylKv3"
      },
      "source": [
        "###### **Step B:** Calculate the p-value for `Equality of Variance`:"
      ]
    },
    {
      "cell_type": "code",
      "execution_count": 56,
      "metadata": {
        "colab": {
          "base_uri": "https://localhost:8080/"
        },
        "id": "cs5A2QJx_rhx",
        "outputId": "cb95faae-0cb4-4421-9f04-04af3ed52111"
      },
      "outputs": [
        {
          "name": "stdout",
          "output_type": "stream",
          "text": [
            "test_statistic: 0.7736446756800186\n",
            "p_value: 0.46711357711340173\n"
          ]
        }
      ],
      "source": [
        "test_statistic, p_value = stats.levene(spent_time_spanish_on_new_page, spent_time_french_on_new_page, spent_time_english_on_new_page)\n",
        "print('test_statistic:', test_statistic)\n",
        "print('p_value:', p_value)"
      ]
    },
    {
      "cell_type": "markdown",
      "metadata": {
        "id": "-576DJvvleGP"
      },
      "source": [
        "###### **Step C:** Inference based on the p-value for `Equality of Variance`:"
      ]
    },
    {
      "cell_type": "code",
      "execution_count": 57,
      "metadata": {
        "colab": {
          "base_uri": "https://localhost:8080/"
        },
        "id": "7onAB4z_-kdt",
        "outputId": "c3626dad-d6ad-4435-d050-8794e779b6c8"
      },
      "outputs": [
        {
          "name": "stdout",
          "output_type": "stream",
          "text": [
            "As the p-value 0.467 is greater than the level of significance(0.05), we fail to reject the null hypothesis.\n"
          ]
        }
      ],
      "source": [
        "if p_value < 0.05:\n",
        "    print(f'As the p-value {round(p_value,3)} is less than the level of significance({alpha}), we reject the null hypothesis.')\n",
        "else:\n",
        "    print(f'As the p-value {round(p_value,3)} is greater than the level of significance({alpha}), we fail to reject the null hypothesis.')"
      ]
    },
    {
      "cell_type": "markdown",
      "metadata": {
        "id": "wRgxRyYG-tY1"
      },
      "source": [
        "Observations:\n",
        "\n",
        "* At a 5% of significance level, we **`fail to reject the null hypothesis`**. Hence, we **do not have enough statistical evidence** to say that all the population Variances are equal."
      ]
    },
    {
      "cell_type": "markdown",
      "metadata": {
        "id": "UrtoZ0lEAGe2"
      },
      "source": [
        "###### Collect & Prepare data : **`f_oneway ANOVA Test`**"
      ]
    },
    {
      "cell_type": "markdown",
      "metadata": {
        "id": "N66tw-VolNku"
      },
      "source": [
        "###### **Step 4.3:** Calculate the p-value"
      ]
    },
    {
      "cell_type": "code",
      "execution_count": 58,
      "metadata": {
        "colab": {
          "base_uri": "https://localhost:8080/"
        },
        "id": "WtjBQJdP-p7i",
        "outputId": "0e6a69ac-3179-4183-e407-6b7b1f3d5add"
      },
      "outputs": [
        {
          "name": "stdout",
          "output_type": "stream",
          "text": [
            "test_statistic: 0.8543992770006821\n",
            "p_value: 0.43204138694325955\n"
          ]
        }
      ],
      "source": [
        "test_statistic, p_value = stats.f_oneway(spent_time_spanish_on_new_page, spent_time_french_on_new_page, spent_time_english_on_new_page)\n",
        "print('test_statistic:', test_statistic)\n",
        "print('p_value:', p_value)"
      ]
    },
    {
      "cell_type": "markdown",
      "metadata": {
        "id": "3vZJg49rlgAl"
      },
      "source": [
        "###### **Step 4.4:** Inference based on the p-value"
      ]
    },
    {
      "cell_type": "code",
      "execution_count": 59,
      "metadata": {
        "colab": {
          "base_uri": "https://localhost:8080/"
        },
        "id": "LN_STAgJAkn3",
        "outputId": "94e6cb30-9185-49f5-a723-2f94111131db"
      },
      "outputs": [
        {
          "name": "stdout",
          "output_type": "stream",
          "text": [
            "As the p-value 0.432 is greater than the level of significance(0.05), we fail to reject the null hypothesis.\n"
          ]
        }
      ],
      "source": [
        "if p_value < 0.05:\n",
        "    print(f'As the p-value {round(p_value,3)} is less than the level of significance({alpha}), we reject the null hypothesis.')\n",
        "else:\n",
        "    print(f'As the p-value {round(p_value,3)} is greater than the level of significance({alpha}), we fail to reject the null hypothesis.')"
      ]
    },
    {
      "cell_type": "markdown",
      "metadata": {
        "id": "mJEgqY2AArru"
      },
      "source": [
        "Observations:\n",
        "\n",
        "* At a 5% of significance level, we **`fail to reject the null hypothesis`**. Hence, we **do not have enough statistical evidence** to say that mean time spent by users on the new page differs for different preferred languages (Spanish, French, and English)."
      ]
    },
    {
      "cell_type": "markdown",
      "metadata": {
        "id": "iq6t6wStFLfG"
      },
      "source": [
        "## **Conclusions:**\n",
        "\n",
        "* The **minimum**, **average**, and **maximum** `time_spent_on_the_page` are *0.19 minutes*, *5.38 minutes* and *10.71 minutes* respectively.\n",
        "\n",
        "* The number of users gets `converted` to a subscriber **more than** `Not Converted` the news portal.\n",
        "\n",
        "* About `54%` of the users get `converted` the news portal.\n",
        "\n",
        "* Approximately, 34% of the users preferred `Spanish`,  34% preferred `French` and 32% preferred `English` language.\n",
        "\n",
        "* Users spent **more time** on  the `new landing page` compared to the `old landing page`.\n",
        "\n",
        "* As observed, **more** users are converting on the `new landing page` compared to the `old landing page`.\n",
        "\n",
        "* Users spent more time on the `new landing page` compared to the `old landing page`.\n",
        "\n",
        "* As observed, users spent more time on the `new landing page` and **converted at a higher rate** compared to the `old landing page`.\n",
        "\n",
        "* The medians are nearly identical across all the languages.\n",
        "\n",
        "* It appears that there `may be` `no relationship` between the `converted` and `language_preferred` columns.\n",
        "\n"
      ]
    },
    {
      "cell_type": "markdown",
      "metadata": {
        "id": "jhXu5xKOFtx_"
      },
      "source": [
        "## **Recommendations:**\n",
        "\n",
        "* `Based on 2_sample_independent_t_test`: At a 5% of significance level, we **`reject the null hypothesis`**. Hence, we have **enough statistical evidence** to say that the users spend **`more time`** on `the new landing page` **`than`** on `the existing landing page`. Users prefer the design and content of the new landing page.\n",
        "\n",
        "* `Based on 2_proportion_sample_z_test`: At a 5% of significance level, we **`reject the null hypothesis`**. Hence, we have **enough statistical evidence** to say that the `proportion` of users who visit the `new landing page` and `get convert` is **greater than** the conversion rate for the `old landing page`. The company should focus more on the new landing page to attract more subscribers.\n",
        "\n",
        "* `Based on Chi_square_test of independence`: At a 5% of significance level, we **`fail to reject the null hypothesis`**. Hence, we **do not have enough statistical evidence** to say that Converted status and Preferred language are independent. The company should continue publishing in all three languages.\n",
        "\n",
        "\n",
        "* `Based on One_way_ANOVA F-test`: At a 5% of significance level, we **`fail to reject the null hypothesis`**. Hence, we **do not have enough statistical evidence** to say that mean time spent by users on the new page differs for different preferred languages (Spanish, French, and English). The company should continue publishing in all three languages.\n",
        "\n",
        "\n",
        "\n",
        "\n",
        "\n",
        "\n"
      ]
    }
  ],
  "metadata": {
    "colab": {
      "provenance": []
    },
    "kernelspec": {
      "display_name": "Python 3",
      "name": "python3"
    },
    "language_info": {
      "name": "python"
    }
  },
  "nbformat": 4,
  "nbformat_minor": 0
}
